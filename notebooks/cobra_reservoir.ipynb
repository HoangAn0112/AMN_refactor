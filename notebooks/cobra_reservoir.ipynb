{
 "cells": [
  {
   "cell_type": "markdown",
   "metadata": {},
   "source": [
    "# Reservoir computing\n",
    "\n",
    "Here we try to improve the prediction of model on experimental data by using pre-trained AMNWt. This model is pre-trained on simulated data created by using cobra solver. We use this on two pair of dataset. Fist on e_coli, we use e_coli_core_UB as simulated dataset and iML1515_EXP_UB as experimental dataset. Then on P.putida, we use IJN1463_10_UB as simulated dataset and IJN1463_EXP_UB_Anne."
   ]
  },
  {
   "cell_type": "code",
   "execution_count": 2,
   "metadata": {},
   "outputs": [],
   "source": [
    "# E_coli\n",
    "dataset_file_simulated = \"/Dataset/e_coli_core_UB.npz\"\n",
    "objective_simulated=['BIOMASS_Ecoli_core_w_GAM']\n",
    "dataset_file_experimental = \"/Dataset/iML1515_EXP_UB.npz\"\n",
    "objective_experimental=['BIOMASS_Ec_iML1515_core_75p37M']\n",
    "\n",
    "model_file_simulated = \"../models/AMNWt_e_coli_core_UB.keras\"\n",
    "\n",
    "drop_out_rate = 0\n",
    "\n",
    "batch_size = 7\n",
    "epochs = 2000"
   ]
  },
  {
   "cell_type": "markdown",
   "metadata": {},
   "source": [
    "## Load the pre-trained model and simulated dataset information"
   ]
  },
  {
   "cell_type": "code",
   "execution_count": 3,
   "metadata": {},
   "outputs": [
    {
     "name": "stdout",
     "output_type": "stream",
     "text": [
      "number of metabolites:  72\n",
      "filtered measurements size:  1\n",
      "10.0\n"
     ]
    },
    {
     "name": "stderr",
     "output_type": "stream",
     "text": [
      "2023-11-10 08:22:44.073730: I tensorflow/core/platform/cpu_feature_guard.cc:142] This TensorFlow binary is optimized with oneAPI Deep Neural Network Library (oneDNN) to use the following CPU instructions in performance-critical operations:  SSE4.1 SSE4.2 AVX AVX2 FMA\n",
      "To enable them in other operations, rebuild TensorFlow with the appropriate compiler flags.\n",
      "2023-11-10 08:22:44.076142: I tensorflow/core/common_runtime/process_util.cc:146] Creating new thread pool with default inter op setting: 2. Tune using inter_op_parallelism_threads for best performance.\n",
      "2023-11-10 08:22:44.308284: I tensorflow/compiler/mlir/mlir_graph_optimization_pass.cc:185] None of the MLIR Optimization Passes are enabled (registered 2)\n"
     ]
    },
    {
     "name": "stdout",
     "output_type": "stream",
     "text": [
      "R2 : 0.9888228666362848\n",
      "Q2 : 0.9861056804729627\n"
     ]
    }
   ],
   "source": [
    "import tensorflow as tf\n",
    "from amn.model.aMNWtModel import AMNWtModel, RNNCell\n",
    "\n",
    "model_class = AMNWtModel\n",
    "seed = 10\n",
    "tf.random.set_seed(seed)\n",
    "\n",
    "data_dir = \"../data\"\n",
    "\n",
    "\n",
    "model_simulated = model_class(dataset_file=data_dir + dataset_file_simulated, \n",
    "                   objective=objective_simulated,\n",
    "                   timestep=4,\n",
    "                   hidden_dim=50,\n",
    "                   verbose=True,\n",
    "                   )\n",
    "\n",
    "\n",
    "model_simulated.train_test_split(test_size=0.1, random_state=seed)\n",
    "\n",
    "# Preprocessing\n",
    "from amn.tools import MaxScaler\n",
    "scaler= MaxScaler()\n",
    "model_simulated.preprocess(scaler)\n",
    "print(scaler.max)\n",
    "\n",
    "# Add tree zero column to the Y\n",
    "model_simulated.preprocessing_for_specific_model()\n",
    "\n",
    "\n",
    "from amn.tools import custom_loss\n",
    "AMNWt_model = tf.keras.models.load_model(model_file_simulated, \n",
    "                                          custom_objects={\"RNNCell\":RNNCell,\n",
    "                                                          \"my_mse\":custom_loss(model_simulated.S, \n",
    "                                                                               model_simulated.P_out,\n",
    "                                                                               model_simulated.P_in)}\n",
    "                                          )\n",
    "\n",
    "print(\"R2 :\", model_simulated.R2(model_simulated.Y_train, AMNWt_model.predict(model_simulated.X_train)))\n",
    "print(\"Q2 :\", model_simulated.R2(model_simulated.Y_test, AMNWt_model.predict(model_simulated.X_test)))"
   ]
  },
  {
   "cell_type": "markdown",
   "metadata": {},
   "source": [
    "## Load the experimental data"
   ]
  },
  {
   "cell_type": "code",
   "execution_count": 4,
   "metadata": {},
   "outputs": [
    {
     "name": "stdout",
     "output_type": "stream",
     "text": [
      "---------------------------------------- model ----------------------------------------\n",
      "number of metabolites:  1080\n",
      "filtered measurements size:  1\n",
      "1\n"
     ]
    }
   ],
   "source": [
    "import tensorflow as tf\n",
    "from amn.model import AMNWtModel\n",
    "\n",
    "\n",
    "model_class = AMNWtModel\n",
    "seed = 10 \n",
    "# seed = 20\n",
    "tf.random.set_seed(seed)\n",
    "\n",
    "\n",
    "print(\"---------------------------------------- model ----------------------------------------\")\n",
    "model_experimental = model_class(dataset_file=data_dir + dataset_file_experimental, \n",
    "                   objective=objective_experimental,\n",
    "                   timestep=4,\n",
    "                   hidden_dim=50,\n",
    "                   verbose=True,\n",
    "                   )\n",
    "\n",
    "# Preprocessing\n",
    "model_experimental.train_test_split(test_size=0.1, random_state=seed)\n",
    "from amn.tools import MaxScaler\n",
    "scaler= MaxScaler()\n",
    "model_experimental.preprocess(scaler)\n",
    "print(scaler.max)\n",
    "\n",
    "# Add tree zero column to the Y\n",
    "model_experimental.preprocessing_for_specific_model()"
   ]
  },
  {
   "cell_type": "markdown",
   "metadata": {},
   "source": [
    "## Add a layer to old pre-trained model and fix model weights"
   ]
  },
  {
   "cell_type": "code",
   "execution_count": 5,
   "metadata": {},
   "outputs": [],
   "source": [
    "\n",
    "from tensorflow.keras import Model, Input, layers\n",
    "\n",
    "input_size_exp = model_experimental.X.shape[1]\n",
    "input_size_sim = model_simulated.X.shape[1]\n",
    "\n",
    "\n",
    "sub_model = AMNWt_model\n",
    "sub_model.trainable = False\n",
    "drop_out = layers.Dropout(drop_out_rate, input_shape=(input_size_sim,))\n",
    "layer = layers.Dense(input_size_sim,activation='relu')\n",
    "\n",
    "inputs = Input((input_size_exp))\n",
    "x = layer(drop_out(inputs))\n",
    "y = sub_model(x)\n",
    "new_model = Model(inputs=inputs, \n",
    "                  outputs=y)\n",
    "new_model.compile(optimizer='adam',\n",
    "              loss=custom_loss(model_simulated.S, model_simulated.P_out, model_simulated.P_in),\n",
    "              metrics=None)"
   ]
  },
  {
   "cell_type": "code",
   "execution_count": 6,
   "metadata": {},
   "outputs": [],
   "source": [
    "import numpy as np\n",
    "scaler= MaxScaler()\n",
    "\n",
    "X = scaler.fit_transform(model_experimental.X)\n",
    "Y = np.concatenate((model_experimental.Y, np.zeros((len(model_experimental.Y),3))), axis=1)\n",
    "\n",
    "# Shuffle dataset\n",
    "idx = np.arange(len(X))\n",
    "np.random.shuffle(idx)\n",
    "X = X[idx]\n",
    "Y = Y[idx]"
   ]
  },
  {
   "cell_type": "code",
   "execution_count": 7,
   "metadata": {},
   "outputs": [
    {
     "name": "stdout",
     "output_type": "stream",
     "text": [
      "0.5904377552761033\n"
     ]
    }
   ],
   "source": [
    "history = new_model.fit(X, Y, epochs=epochs, batch_size=batch_size, verbose=0)\n",
    "R_2 = model_simulated.R2(Y, new_model.predict(X))\n",
    "print(R_2)"
   ]
  },
  {
   "cell_type": "markdown",
   "metadata": {},
   "source": [
    "## Using cobra with output of the new_model as input on e_coli (for now)"
   ]
  },
  {
   "cell_type": "code",
   "execution_count": 8,
   "metadata": {},
   "outputs": [
    {
     "data": {
      "text/plain": [
       "<tf.Tensor: shape=(20,), dtype=float32, numpy=\n",
       "array([ 0.        ,  1.7437276 ,  1.1366179 ,  1.0867105 ,  0.        ,\n",
       "        3.0747838 ,  1.0069643 , 69.82216   ,  0.        ,  0.        ,\n",
       "       13.904826  ,  0.        ,  0.        ,  0.        ,  0.96577126,\n",
       "        0.        ,  0.        ,  0.        ,  0.41110405, 21.04938   ],\n",
       "      dtype=float32)>"
      ]
     },
     "execution_count": 8,
     "metadata": {},
     "output_type": "execute_result"
    }
   ],
   "source": [
    "# V_in is not zero\n",
    "V_in = layer(X)\n",
    "V_in[0]"
   ]
  },
  {
   "cell_type": "code",
   "execution_count": 9,
   "metadata": {},
   "outputs": [
    {
     "name": "stderr",
     "output_type": "stream",
     "text": [
      "/home/agiralt/anaconda3/envs/amn/lib/python3.7/site-packages/cobra/util/solver.py:554: UserWarning: Solver status is 'infeasible'.\n",
      "  warn(f\"Solver status is '{status}'.\", UserWarning)\n"
     ]
    }
   ],
   "source": [
    "import cobra\n",
    "from amn.run_cobra import run_cobra\n",
    "\n",
    "# experimental\n",
    "cobra_model = cobra.io.read_sbml_model(data_dir + \"/Dataset/iML1515_EXP_UB.xml\")\n",
    "objective = [\"BIOMASS_Ec_iML1515_core_75p37M\"]\n",
    "\n",
    "# simulated\n",
    "cobra_model = cobra.io.read_sbml_model(data_dir + \"/Dataset/e_coli_core_UB.xml\")\n",
    "objective = ['BIOMASS_Ecoli_core_w_GAM']\n",
    "\n",
    "Y_pred = []\n",
    "for i in range(V_in.shape[0]):\n",
    "\n",
    "    inf = {r.id: 0 for r in cobra_model.reactions}\n",
    "    ## Reaction must be linked to e_coli_model\n",
    "    for j in range(V_in.shape[1]):\n",
    "        inf[model_simulated.medium[j]] = V_in[i,j]\n",
    "        result = run_cobra(cobra_model,objective , inf)\n",
    "\n",
    "    Y_pred.append(result[1])\n"
   ]
  },
  {
   "cell_type": "code",
   "execution_count": 10,
   "metadata": {},
   "outputs": [],
   "source": [
    "TRUE = Y[:,0]\n",
    "PRED = Y_pred"
   ]
  },
  {
   "cell_type": "code",
   "execution_count": 11,
   "metadata": {},
   "outputs": [
    {
     "data": {
      "text/plain": [
       "-3.4043974507190695"
      ]
     },
     "execution_count": 11,
     "metadata": {},
     "output_type": "execute_result"
    }
   ],
   "source": [
    "import sklearn\n",
    "sklearn.metrics.r2_score(TRUE, PRED)"
   ]
  },
  {
   "cell_type": "code",
   "execution_count": 12,
   "metadata": {},
   "outputs": [
    {
     "data": {
      "text/plain": [
       "[0.07734683604782451,\n",
       " 0.07987381033217511,\n",
       " 0.08047476096532713,\n",
       " 0.07565787847092674,\n",
       " 0.07271723459296943,\n",
       " 0.07796444369612923,\n",
       " 0.09253329866113844,\n",
       " 0.10343111043327323,\n",
       " 0.06344183448405223,\n",
       " 0.07636531645173605,\n",
       " 0.07424613290805794,\n",
       " 0.08293013787208753,\n",
       " 0.09380314326844766,\n",
       " 0.08996667071161826,\n",
       " 0.08121123781762105,\n",
       " 0.07460338134120756,\n",
       " 0.069085118790355,\n",
       " 0.06687001603445977,\n",
       " 0.08478401412833708,\n",
       " 0.08115028980850661,\n",
       " 0.07559109711785217,\n",
       " 0.0661179358229785,\n",
       " 0.08344194393270365,\n",
       " 0.08269254176246076,\n",
       " 0.0798025540839264,\n",
       " 0.08179196034009636,\n",
       " 0.08510410408129938,\n",
       " 0.08547897469125669,\n",
       " 0.07353024308262682,\n",
       " 0.08309029294226351,\n",
       " 0.08021243679813655,\n",
       " 0.07875685856381229,\n",
       " 0.09423063547452372,\n",
       " 0.07588053296200847,\n",
       " 0.09120481392004422,\n",
       " 0.07405384749248177,\n",
       " 0.09633548608654917,\n",
       " 0.07836858381557558,\n",
       " 0.08657956775027673,\n",
       " 0.07403832381964778,\n",
       " 0.09584594399995623,\n",
       " 0.09066627629400778,\n",
       " 0.06694188163251315,\n",
       " 0.0772853953022954,\n",
       " 0.07242383672206926,\n",
       " 0.08753541700897743,\n",
       " 0.0971188551624128,\n",
       " 0.07114111125986818,\n",
       " 0.06898438131952607,\n",
       " 0.09429270047815497,\n",
       " 0.09441196617004834,\n",
       " 0.0886612076469482,\n",
       " 0.07602963667305529,\n",
       " 0.09416473418359378,\n",
       " 0.07894815251316531,\n",
       " 0.07277548797028977,\n",
       " 0.0794354698855416,\n",
       " 0.08982642479188832,\n",
       " 0.0854376743144145,\n",
       " 0.07648645930020169,\n",
       " 0.08354211639194951,\n",
       " 0.06577271696804945,\n",
       " 0.07998958576393786,\n",
       " 0.08038738210232178,\n",
       " 0.08520453465387035,\n",
       " 0.09427088160488466,\n",
       " 0.06731620805739227,\n",
       " 0.07317729640217692,\n",
       " 0.06675423656413801,\n",
       " 0.08128511663731273,\n",
       " 0.09151740205155015,\n",
       " 0.08943386377925515,\n",
       " 0.07321357937433925,\n",
       " 0.06992255403124521,\n",
       " 0.08494023933694424,\n",
       " 0.08685600522025436,\n",
       " 0.0573278560457924,\n",
       " 0.09875027556175367,\n",
       " 0.08053301434264737,\n",
       " 0.09453525852213351,\n",
       " 0.07620366573991874,\n",
       " 0.08505125651921448,\n",
       " 0.07216835026482099,\n",
       " 0.09165466633814402,\n",
       " 0.07818132498810466,\n",
       " 0.08494813222782151,\n",
       " 0.08937900981597062,\n",
       " 0.0848969819882862,\n",
       " 0.08092352572216667,\n",
       " 0.06287938644084136,\n",
       " 0.07967771827404149,\n",
       " 0.08386443588723452,\n",
       " 0.09546583311271725,\n",
       " 0.07546865136152676,\n",
       " 0.06184684059757007,\n",
       " 0.08973114642164311,\n",
       " 0.0916910902731992,\n",
       " 0.09395162956697842,\n",
       " 0.09112561382633394,\n",
       " 0.09126038749868193,\n",
       " 0.09320183427763358,\n",
       " 0.08736138816767192,\n",
       " 0.080259419588539,\n",
       " 0.07461127045130617,\n",
       " 0.0767105353066651,\n",
       " 0.0745536818895312,\n",
       " 0.09174994470838922,\n",
       " 0.0835797826135169,\n",
       " 0.07459206261755157,\n",
       " 0.07846386218582084]"
      ]
     },
     "execution_count": 12,
     "metadata": {},
     "output_type": "execute_result"
    }
   ],
   "source": [
    "PRED"
   ]
  },
  {
   "cell_type": "code",
   "execution_count": 13,
   "metadata": {},
   "outputs": [
    {
     "data": {
      "text/plain": [
       "array([0.25491721, 0.19995003, 0.213108  , 0.36748529, 0.30498805,\n",
       "       0.34417111, 0.10823699, 0.10592987, 0.39292909, 0.24511303,\n",
       "       0.29190893, 0.18627597, 0.1319873 , 0.20953583, 0.16546936,\n",
       "       0.24291983, 0.30265454, 0.35197431, 0.20772926, 0.27287331,\n",
       "       0.42053848, 0.30484688, 0.24690668, 0.33610419, 0.19361131,\n",
       "       0.22768201, 0.27848961, 0.30221964, 0.29771937, 0.25305511,\n",
       "       0.27081596, 0.33618463, 0.15845945, 0.38366267, 0.26244328,\n",
       "       0.36209367, 0.15491189, 0.18870321, 0.08998277, 0.30990109,\n",
       "       0.17652818, 0.18857016, 0.36538323, 0.24085268, 0.26057603,\n",
       "       0.13401356, 0.0765294 , 0.34018671, 0.27056665, 0.14489149,\n",
       "       0.1538375 , 0.22554864, 0.25188356, 0.09241834, 0.41345674,\n",
       "       0.33509878, 0.33156464, 0.15756536, 0.16647387, 0.23097749,\n",
       "       0.16876883, 0.36302645, 0.17060508, 0.24608594, 0.10538765,\n",
       "       0.23150512, 0.39489686, 0.24051223, 0.29636434, 0.19885259,\n",
       "       0.08812777, 0.11354416, 0.25608325, 0.29449714, 0.2020666 ,\n",
       "       0.13398423, 0.37845481, 0.07036642, 0.20408691, 0.23855667,\n",
       "       0.27311799, 0.16118613, 0.36883461, 0.10738262, 0.2193191 ,\n",
       "       0.18620895, 0.2246795 , 0.23701745, 0.21547613, 0.32553523,\n",
       "       0.24372697, 0.20374745, 0.27124001, 0.23210631, 0.33546881,\n",
       "       0.13677539, 0.19488304, 0.16739003, 0.12092238, 0.13622547,\n",
       "       0.19236413, 0.19897683, 0.16958847, 0.23969573, 0.26806339,\n",
       "       0.28162631, 0.13505459, 0.26096546, 0.07198777, 0.22754484])"
      ]
     },
     "execution_count": 13,
     "metadata": {},
     "output_type": "execute_result"
    }
   ],
   "source": [
    "TRUE"
   ]
  },
  {
   "cell_type": "code",
   "execution_count": 14,
   "metadata": {},
   "outputs": [
    {
     "data": {
      "image/png": "[encoded data removed]",
      "text/plain": [
       "<Figure size 640x480 with 1 Axes>"
      ]
     },
     "metadata": {},
     "output_type": "display_data"
    }
   ],
   "source": [
    "from amn.tools import plot_regression\n",
    "plot_regression(PRED, TRUE, \"\", \"\",\"\")"
   ]
  },
  {
   "cell_type": "code",
   "execution_count": null,
   "metadata": {},
   "outputs": [],
   "source": []
  },
  {
   "cell_type": "code",
   "execution_count": null,
   "metadata": {},
   "outputs": [],
   "source": []
  }
 ],
 "metadata": {
  "kernelspec": {
   "display_name": "AMN",
   "language": "python",
   "name": "python3"
  },
  "language_info": {
   "codemirror_mode": {
    "name": "ipython",
    "version": 3
   },
   "file_extension": ".py",
   "mimetype": "text/x-python",
   "name": "python",
   "nbconvert_exporter": "python",
   "pygments_lexer": "ipython3",
   "version": "3.7.12"
  },
  "orig_nbformat": 4
 },
 "nbformat": 4,
 "nbformat_minor": 2
}
