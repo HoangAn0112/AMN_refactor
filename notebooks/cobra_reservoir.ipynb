{
 "cells": [
  {
   "cell_type": "markdown",
   "metadata": {},
   "source": [
    "# Reservoir computing\n",
    "\n",
    "Here we attempt to improve the prediction of cobra solver on experimental data. The input commonly used in cobra is the concentration of compounds in the media, as an approximation of uptake fluxes of metabolism. We try here to improve the prediction of cobra here by finding a more accurate input.\n",
    "First we use an AMNWt model, trained on data simulated by cobra. All weight of this model are freezed. A new model is the composition of a dense layer as input and then this model. This new model is trained on experimental dataset. The output of the trained dense layer then gives a input layer for cobra model, improving it score.\n",
    "\n",
    "We use this idea on two pair of dataset. Fist on e_coli, we use iML1515_UB as simulated dataset and iML1515_EXP_UB as experimental dataset. Then on P.putida, we use IJN1463_10_UB as simulated dataset and IJN1463_EXP_UB_Anne."
   ]
  },
  {
   "cell_type": "code",
   "execution_count": 1,
   "metadata": {},
   "outputs": [],
   "source": [
    "# E_coli\n",
    "dataset_file_simulated = \"/Dataset/iML1515_UB_Anne.npz\"\n",
    "objective_simulated=['BIOMASS_Ec_iML1515_core_75p37M']\n",
    "dataset_file_experimental = \"/Dataset/iML1515_EXP_UB.npz\"\n",
    "objective_experimental=['BIOMASS_Ec_iML1515_core_75p37M']\n",
    "\n",
    "model_file_simulated = \"../models/AMNWt_iML1515_UB.keras\"\n",
    "\n",
    "drop_out_rate = 0\n",
    "\n",
    "batch_size = 7\n",
    "epochs = 20"
   ]
  },
  {
   "cell_type": "markdown",
   "metadata": {},
   "source": [
    "## Load the pre-trained model and simulated dataset information"
   ]
  },
  {
   "cell_type": "code",
   "execution_count": 2,
   "metadata": {},
   "outputs": [
    {
     "name": "stdout",
     "output_type": "stream",
     "text": [
      "number of metabolites:  1877\n",
      "filtered measurements size:  1\n",
      "11.0\n"
     ]
    },
    {
     "name": "stderr",
     "output_type": "stream",
     "text": [
      "2023-11-16 15:35:48.508931: I tensorflow/core/platform/cpu_feature_guard.cc:142] This TensorFlow binary is optimized with oneAPI Deep Neural Network Library (oneDNN) to use the following CPU instructions in performance-critical operations:  SSE4.1 SSE4.2 AVX AVX2 FMA\n",
      "To enable them in other operations, rebuild TensorFlow with the appropriate compiler flags.\n",
      "2023-11-16 15:35:48.510397: I tensorflow/core/common_runtime/process_util.cc:146] Creating new thread pool with default inter op setting: 2. Tune using inter_op_parallelism_threads for best performance.\n",
      "2023-11-16 15:35:49.236728: I tensorflow/compiler/mlir/mlir_graph_optimization_pass.cc:185] None of the MLIR Optimization Passes are enabled (registered 2)\n"
     ]
    },
    {
     "name": "stdout",
     "output_type": "stream",
     "text": [
      "R2 : 0.9988290524957166\n",
      "Q2 : 0.9990274967094778\n"
     ]
    }
   ],
   "source": [
    "import tensorflow as tf\n",
    "from amn.model.aMNWtModel import AMNWtModel, RNNCell\n",
    "\n",
    "model_class = AMNWtModel\n",
    "seed = 10\n",
    "tf.random.set_seed(seed)\n",
    "\n",
    "data_dir = \"../data\"\n",
    "\n",
    "\n",
    "model_simulated = model_class(dataset_file=data_dir + dataset_file_simulated, \n",
    "                   objective=objective_simulated,\n",
    "                   timestep=4,\n",
    "                   hidden_dim=50,\n",
    "                   verbose=True,\n",
    "                   )\n",
    "\n",
    "\n",
    "model_simulated.train_test_split(test_size=0.1, random_state=seed)\n",
    "\n",
    "# Preprocessing\n",
    "from amn.tools import MaxScaler\n",
    "scaler= MaxScaler()\n",
    "model_simulated.preprocess(scaler)\n",
    "print(scaler.max)\n",
    "\n",
    "# Add tree zero column to the Y\n",
    "model_simulated.preprocessing_for_specific_model()\n",
    "\n",
    "\n",
    "from amn.tools import custom_loss\n",
    "AMNWt_model = tf.keras.models.load_model(model_file_simulated, \n",
    "                                          custom_objects={\"RNNCell\":RNNCell,\n",
    "                                                          \"my_mse\":custom_loss(model_simulated.S, \n",
    "                                                                               model_simulated.P_out,\n",
    "                                                                               model_simulated.P_in)}\n",
    "                                          )\n",
    "\n",
    "print(\"R2 :\", model_simulated.R2(model_simulated.Y_train, AMNWt_model.predict(model_simulated.X_train)))\n",
    "print(\"Q2 :\", model_simulated.R2(model_simulated.Y_test, AMNWt_model.predict(model_simulated.X_test)))"
   ]
  },
  {
   "cell_type": "markdown",
   "metadata": {},
   "source": [
    "## Load the experimental data"
   ]
  },
  {
   "cell_type": "code",
   "execution_count": 3,
   "metadata": {},
   "outputs": [
    {
     "name": "stdout",
     "output_type": "stream",
     "text": [
      "---------------------------------------- model ----------------------------------------\n",
      "number of metabolites:  1080\n",
      "filtered measurements size:  1\n",
      "1\n"
     ]
    }
   ],
   "source": [
    "import tensorflow as tf\n",
    "from amn.model import AMNWtModel\n",
    "\n",
    "\n",
    "model_class = AMNWtModel\n",
    "seed = 10 \n",
    "# seed = 20\n",
    "tf.random.set_seed(seed)\n",
    "\n",
    "\n",
    "print(\"---------------------------------------- model ----------------------------------------\")\n",
    "model_experimental = model_class(dataset_file=data_dir + dataset_file_experimental, \n",
    "                   objective=objective_experimental,\n",
    "                   timestep=4,\n",
    "                   hidden_dim=50,\n",
    "                   verbose=True,\n",
    "                   )\n",
    "\n",
    "# Preprocessing\n",
    "model_experimental.train_test_split(test_size=0.1, random_state=seed)\n",
    "from amn.tools import MaxScaler\n",
    "scaler= MaxScaler()\n",
    "model_experimental.preprocess(scaler)\n",
    "print(scaler.max)\n",
    "\n",
    "# Add tree zero column to the Y\n",
    "model_experimental.preprocessing_for_specific_model()"
   ]
  },
  {
   "cell_type": "code",
   "execution_count": 4,
   "metadata": {},
   "outputs": [
    {
     "data": {
      "text/plain": [
       "(11000, 38)"
      ]
     },
     "execution_count": 4,
     "metadata": {},
     "output_type": "execute_result"
    }
   ],
   "source": [
    "model_simulated.X.shape"
   ]
  },
  {
   "cell_type": "markdown",
   "metadata": {},
   "source": [
    "## Add a layer to old pre-trained model and fix model weights"
   ]
  },
  {
   "cell_type": "code",
   "execution_count": 6,
   "metadata": {},
   "outputs": [],
   "source": [
    "loss = custom_loss(model_simulated.S, model_simulated.P_out, model_simulated.P_in)\n",
    "loss = custom_loss(model_simulated.S, model_simulated.P_out, model_simulated.P_in)"
   ]
  },
  {
   "cell_type": "code",
   "execution_count": 7,
   "metadata": {},
   "outputs": [],
   "source": [
    "\n",
    "from tensorflow.keras import Model, Input, layers\n",
    "\n",
    "input_size_exp = model_experimental.X.shape[1]\n",
    "input_size_sim = model_simulated.X.shape[1]\n",
    "\n",
    "\n",
    "sub_model = AMNWt_model\n",
    "sub_model.trainable = False\n",
    "drop_out = layers.Dropout(drop_out_rate, input_shape=(input_size_sim,))\n",
    "layer = layers.Dense(input_size_sim,activation='relu')\n",
    "\n",
    "inputs = Input((input_size_exp))\n",
    "x = layer(drop_out(inputs))\n",
    "y = sub_model(x)\n",
    "new_model = Model(inputs=inputs, \n",
    "                  outputs=y)\n",
    "new_model.compile(optimizer='adam',\n",
    "              loss=loss,\n",
    "              metrics=None)"
   ]
  },
  {
   "cell_type": "code",
   "execution_count": 8,
   "metadata": {},
   "outputs": [],
   "source": [
    "import numpy as np\n",
    "scaler= MaxScaler()\n",
    "\n",
    "X = scaler.fit_transform(model_experimental.X)\n",
    "Y = np.concatenate((model_experimental.Y, np.zeros((len(model_experimental.Y),3))), axis=1)\n",
    "\n",
    "# Shuffle dataset\n",
    "idx = np.arange(len(X))\n",
    "np.random.shuffle(idx)\n",
    "X = X[idx]\n",
    "Y = Y[idx]"
   ]
  },
  {
   "cell_type": "code",
   "execution_count": 9,
   "metadata": {},
   "outputs": [
    {
     "name": "stdout",
     "output_type": "stream",
     "text": [
      "0.8054523721824849\n"
     ]
    }
   ],
   "source": [
    "history = new_model.fit(X, Y, epochs=epochs, batch_size=batch_size, verbose=0)\n",
    "pred = new_model.predict(X)\n",
    "R_2 = model_simulated.R2(Y, pred)\n",
    "print(R_2)"
   ]
  },
  {
   "cell_type": "code",
   "execution_count": 11,
   "metadata": {},
   "outputs": [],
   "source": [
    "pred\n",
    "P_out     = tf.convert_to_tensor(np.float32(model_simulated.P_out))   \n",
    "PRED = tf.linalg.matmul(pred[:,:model_simulated.S.shape[1]], tf.transpose(P_out)) "
   ]
  },
  {
   "cell_type": "code",
   "execution_count": 12,
   "metadata": {},
   "outputs": [],
   "source": [
    "TRUE = Y[:,0]\n",
    "# PRED = pred\n",
    "PRED = PRED - 0.03"
   ]
  },
  {
   "cell_type": "code",
   "execution_count": 13,
   "metadata": {},
   "outputs": [
    {
     "name": "stderr",
     "output_type": "stream",
     "text": [
      "/home/agiralt/anaconda3/envs/amn/lib/python3.7/site-packages/numpy/core/_asarray.py:171: VisibleDeprecationWarning: Creating an ndarray from ragged nested sequences (which is a list-or-tuple of lists-or-tuples-or ndarrays with different lengths or shapes) is deprecated. If you meant to do this, you must specify 'dtype=object' when creating the ndarray.\n",
      "  return array(a, dtype, copy=False, order=order, subok=True)\n"
     ]
    },
    {
     "data": {
      "image/png": "[encoded data removed]",
      "text/plain": [
       "<Figure size 640x480 with 1 Axes>"
      ]
     },
     "metadata": {},
     "output_type": "display_data"
    }
   ],
   "source": [
    "from amn.tools import plot_regression\n",
    "plot_regression(PRED, TRUE, \"\", \"\",\"\")"
   ]
  },
  {
   "cell_type": "markdown",
   "metadata": {},
   "source": [
    "## Using cobra with output of the new_model as input on e_coli (for now)"
   ]
  },
  {
   "cell_type": "code",
   "execution_count": 14,
   "metadata": {},
   "outputs": [
    {
     "data": {
      "text/plain": [
       "<tf.Tensor: shape=(38,), dtype=float32, numpy=\n",
       "array([0.5972636 , 0.        , 0.        , 0.        , 0.8451051 ,\n",
       "       0.43571195, 0.75311387, 0.21922122, 0.        , 0.        ,\n",
       "       0.        , 0.        , 0.        , 0.2599421 , 0.        ,\n",
       "       0.        , 0.        , 0.10244299, 1.146638  , 0.        ,\n",
       "       0.        , 0.37082154, 0.        , 0.        , 0.17885995,\n",
       "       1.3852212 , 0.        , 0.        , 0.        , 0.0322809 ,\n",
       "       0.        , 0.3427242 , 0.        , 0.82548463, 0.        ,\n",
       "       0.9644206 , 0.        , 0.68252265], dtype=float32)>"
      ]
     },
     "execution_count": 14,
     "metadata": {},
     "output_type": "execute_result"
    }
   ],
   "source": [
    "# V_in is not zero\n",
    "V_in = layer(X)\n",
    "V_in[0]"
   ]
  },
  {
   "cell_type": "code",
   "execution_count": 15,
   "metadata": {},
   "outputs": [
    {
     "name": "stderr",
     "output_type": "stream",
     "text": [
      "/home/agiralt/anaconda3/envs/amn/lib/python3.7/site-packages/cobra/util/solver.py:554: UserWarning: Solver status is 'infeasible'.\n",
      "  warn(f\"Solver status is '{status}'.\", UserWarning)\n"
     ]
    }
   ],
   "source": [
    "import cobra\n",
    "from amn.run_cobra import run_cobra\n",
    "\n",
    "# experimental\n",
    "cobra_model = cobra.io.read_sbml_model(data_dir + \"/Dataset/iML1515_EXP_UB.xml\")\n",
    "objective = [\"BIOMASS_Ec_iML1515_core_75p37M\"]\n",
    "\n",
    "# simulated\n",
    "cobra_model = cobra.io.read_sbml_model(data_dir + \"/Dataset/e_coli_core_UB.xml\")\n",
    "objective = ['BIOMASS_Ecoli_core_w_GAM']\n",
    "\n",
    "Y_pred = []\n",
    "for i in range(V_in.shape[0]):\n",
    "\n",
    "    inf = {r.id: 0 for r in cobra_model.reactions}\n",
    "    ## Reaction must be linked to e_coli_model\n",
    "    for j in range(V_in.shape[1]):\n",
    "        inf[model_simulated.medium[j]] = V_in[i,j]\n",
    "        result = run_cobra(cobra_model,objective , inf)\n",
    "\n",
    "    Y_pred.append(result[1])\n"
   ]
  },
  {
   "cell_type": "code",
   "execution_count": 16,
   "metadata": {},
   "outputs": [],
   "source": [
    "TRUE = Y[:,0]\n",
    "PRED = Y_pred"
   ]
  },
  {
   "cell_type": "code",
   "execution_count": 17,
   "metadata": {},
   "outputs": [
    {
     "data": {
      "text/plain": [
       "-7.639754955864005"
      ]
     },
     "execution_count": 17,
     "metadata": {},
     "output_type": "execute_result"
    }
   ],
   "source": [
    "import sklearn\n",
    "sklearn.metrics.r2_score(TRUE, PRED)"
   ]
  },
  {
   "cell_type": "code",
   "execution_count": 18,
   "metadata": {},
   "outputs": [
    {
     "data": {
      "text/plain": [
       "[0.0,\n",
       " 0.0,\n",
       " 0.0,\n",
       " 0.0,\n",
       " 0.0,\n",
       " 0.0,\n",
       " 0.0,\n",
       " 0.0,\n",
       " 0.0,\n",
       " 0.0,\n",
       " 0.0,\n",
       " 0.0,\n",
       " 0.0,\n",
       " 0.0,\n",
       " 0.0,\n",
       " 0.0,\n",
       " 0.0,\n",
       " 0.0,\n",
       " 0.0,\n",
       " 0.0,\n",
       " 0.0,\n",
       " 0.0,\n",
       " 0.0,\n",
       " 0.0,\n",
       " 0.0,\n",
       " 0.0,\n",
       " 0.0,\n",
       " 0.0,\n",
       " 0.0,\n",
       " 0.0,\n",
       " 0.0,\n",
       " 0.0,\n",
       " 0.0,\n",
       " 0.0,\n",
       " 0.0,\n",
       " 0.0,\n",
       " 0.0,\n",
       " 0.0,\n",
       " 0.0,\n",
       " 0.0,\n",
       " 0.0,\n",
       " 0.0,\n",
       " 0.0,\n",
       " 0.0,\n",
       " 0.0,\n",
       " 0.0,\n",
       " 0.0,\n",
       " 0.0,\n",
       " 0.0,\n",
       " 0.0,\n",
       " 0.0,\n",
       " 0.0,\n",
       " 0.0,\n",
       " 0.0,\n",
       " 0.0,\n",
       " 0.0,\n",
       " 0.0,\n",
       " 0.0,\n",
       " 0.0,\n",
       " 0.0,\n",
       " 0.0,\n",
       " 0.0,\n",
       " 0.0,\n",
       " 0.0,\n",
       " 0.0,\n",
       " 0.0,\n",
       " 0.0,\n",
       " 0.0,\n",
       " 0.0,\n",
       " 0.0,\n",
       " 0.0,\n",
       " 0.0,\n",
       " 0.0,\n",
       " 0.0,\n",
       " 0.0,\n",
       " 0.0,\n",
       " 0.0,\n",
       " 0.0,\n",
       " 0.0,\n",
       " 0.0,\n",
       " 0.0,\n",
       " 0.0,\n",
       " 0.0,\n",
       " 0.0,\n",
       " 0.0,\n",
       " 0.0,\n",
       " 0.0,\n",
       " 0.0,\n",
       " 0.0,\n",
       " 0.0,\n",
       " 0.0,\n",
       " 0.0,\n",
       " 0.0,\n",
       " 0.0,\n",
       " 0.0,\n",
       " 0.0,\n",
       " 0.0,\n",
       " 0.0,\n",
       " 0.0,\n",
       " 0.0,\n",
       " 0.0,\n",
       " 0.0,\n",
       " 0.0,\n",
       " 0.0,\n",
       " 0.0,\n",
       " 0.0,\n",
       " 0.0,\n",
       " 0.0,\n",
       " 0.0,\n",
       " 0.0]"
      ]
     },
     "execution_count": 18,
     "metadata": {},
     "output_type": "execute_result"
    }
   ],
   "source": [
    "PRED"
   ]
  },
  {
   "cell_type": "code",
   "execution_count": 19,
   "metadata": {},
   "outputs": [
    {
     "data": {
      "text/plain": [
       "array([0.27848961, 0.22554864, 0.17652818, 0.18620895, 0.15845945,\n",
       "       0.27081596, 0.20374745, 0.30990109, 0.19488304, 0.36538323,\n",
       "       0.16118613, 0.13401356, 0.2020666 , 0.17060508, 0.36209367,\n",
       "       0.07036642, 0.09241834, 0.26057603, 0.33618463, 0.20953583,\n",
       "       0.25608325, 0.08998277, 0.23855667, 0.0765294 , 0.22754484,\n",
       "       0.22768201, 0.36748529, 0.39292909, 0.29636434, 0.24690668,\n",
       "       0.29771937, 0.18857016, 0.34018671, 0.37845481, 0.13622547,\n",
       "       0.26096546, 0.20408691, 0.19361131, 0.24511303, 0.10738262,\n",
       "       0.23097749, 0.29449714, 0.30221964, 0.10538765, 0.13398423,\n",
       "       0.25188356, 0.30498805, 0.2193191 , 0.21547613, 0.24051223,\n",
       "       0.33509878, 0.16876883, 0.36302645, 0.26806339, 0.10592987,\n",
       "       0.38366267, 0.12092238, 0.27056665, 0.16647387, 0.16958847,\n",
       "       0.19995003, 0.39489686, 0.33610419, 0.18627597, 0.16739003,\n",
       "       0.30484688, 0.13505459, 0.35197431, 0.14489149, 0.19236413,\n",
       "       0.27311799, 0.36883461, 0.11354416, 0.08812777, 0.26244328,\n",
       "       0.23210631, 0.23969573, 0.07198777, 0.24291983, 0.1319873 ,\n",
       "       0.33156464, 0.2246795 , 0.20772926, 0.25491721, 0.24085268,\n",
       "       0.23701745, 0.213108  , 0.15491189, 0.18870321, 0.16546936,\n",
       "       0.15756536, 0.28162631, 0.24608594, 0.19897683, 0.23150512,\n",
       "       0.24372697, 0.30265454, 0.33546881, 0.32553523, 0.41345674,\n",
       "       0.27124001, 0.1538375 , 0.19885259, 0.10823699, 0.25305511,\n",
       "       0.27287331, 0.42053848, 0.29190893, 0.13677539, 0.34417111])"
      ]
     },
     "execution_count": 19,
     "metadata": {},
     "output_type": "execute_result"
    }
   ],
   "source": [
    "TRUE"
   ]
  },
  {
   "cell_type": "code",
   "execution_count": 20,
   "metadata": {},
   "outputs": [
    {
     "name": "stderr",
     "output_type": "stream",
     "text": [
      "findfont: Font family ['arial'] not found. Falling back to DejaVu Sans.\n"
     ]
    },
    {
     "data": {
      "image/png": "[encoded data removed]",
      "text/plain": [
       "<Figure size 1100x1100 with 1 Axes>"
      ]
     },
     "metadata": {},
     "output_type": "display_data"
    }
   ],
   "source": [
    "from amn.tools import plot_regression\n",
    "plot_regression(PRED, TRUE, \"\", \"\",\"\")"
   ]
  },
  {
   "cell_type": "code",
   "execution_count": null,
   "metadata": {},
   "outputs": [],
   "source": []
  },
  {
   "cell_type": "code",
   "execution_count": null,
   "metadata": {},
   "outputs": [],
   "source": []
  }
 ],
 "metadata": {
  "kernelspec": {
   "display_name": "AMN",
   "language": "python",
   "name": "python3"
  },
  "language_info": {
   "codemirror_mode": {
    "name": "ipython",
    "version": 3
   },
   "file_extension": ".py",
   "mimetype": "text/x-python",
   "name": "python",
   "nbconvert_exporter": "python",
   "pygments_lexer": "ipython3",
   "version": "3.7.12"
  },
  "orig_nbformat": 4
 },
 "nbformat": 4,
 "nbformat_minor": 2
}
