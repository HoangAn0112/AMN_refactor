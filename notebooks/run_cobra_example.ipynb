{
 "cells": [
  {
   "cell_type": "markdown",
   "metadata": {},
   "source": [
    "# Cobra example\n",
    "\n",
    "This notebook give an example of use of the run_cobra function on the experimental dataset iML1515_EXP_UB. For every row the fluxes given to cobra are zero except the one in the X of the dataset. We also use a constant on to multiply the constraints in attempt to optimize the prediction."
   ]
  },
  {
   "cell_type": "code",
   "execution_count": 2,
   "metadata": {},
   "outputs": [
    {
     "name": "stdout",
     "output_type": "stream",
     "text": [
      "number of metabolites:  1080\n",
      "filtered measurements size:  1\n"
     ]
    }
   ],
   "source": [
    "import cobra\n",
    "from amn.model import AMNWtModel\n",
    "\n",
    "data_dir = \"../data\"\n",
    "\n",
    "\n",
    "dataset_file_experimental = \"/Dataset/iML1515_EXP_UB.npz\"\n",
    "cobra_model = cobra.io.read_sbml_model(data_dir + \"/Dataset/iML1515_EXP_UB.xml\")\n",
    "objective = [\"BIOMASS_Ec_iML1515_core_75p37M\"]\n",
    "\n",
    "constraint_cst = 2.5\n",
    "\n",
    "# Get some dataset from a model object.\n",
    "model_experimental = AMNWtModel(dataset_file=data_dir + dataset_file_experimental, \n",
    "                   objective=objective,\n",
    "                   timestep=4,\n",
    "                   hidden_dim=50,\n",
    "                   verbose=True,\n",
    "                   )\n",
    "\n",
    "# Non-nul input for the metabolic model.\n",
    "V_in = model_experimental.X * constraint_cst"
   ]
  },
  {
   "cell_type": "code",
   "execution_count": 7,
   "metadata": {},
   "outputs": [],
   "source": [
    "from amn.run_cobra import run_cobra\n",
    "\n",
    "# Result for the cobra model on every entry of the dataset.\n",
    "Y_pred = []\n",
    "\n",
    "for i in range(V_in.shape[0]):\n",
    "    # Initialize all the reaction to 0.\n",
    "    inf = {r.id: 0 for r in cobra_model.reactions}\n",
    "    # Add all the non-nul inputs for the entry i.\n",
    "    for j in range(V_in.shape[1]):\n",
    "        inf[model_experimental.medium[j]] = float(V_in[i,j])\n",
    "    result = run_cobra(cobra_model,objective , inf, method='pFBA')\n",
    "\n",
    "    Y_pred.append(result[1])\n"
   ]
  },
  {
   "cell_type": "code",
   "execution_count": 14,
   "metadata": {},
   "outputs": [
    {
     "data": {
      "text/plain": [
       "543"
      ]
     },
     "execution_count": 14,
     "metadata": {},
     "output_type": "execute_result"
    }
   ],
   "source": [
    "len(cobra_model.reactions)"
   ]
  },
  {
   "cell_type": "code",
   "execution_count": 7,
   "metadata": {},
   "outputs": [
    {
     "data": {
      "text/plain": [
       "Text(0.5, 1.0, 'R2 = 0.37087583994346995')"
      ]
     },
     "execution_count": 7,
     "metadata": {},
     "output_type": "execute_result"
    },
    {
     "data": {
      "image/png": "[encoded data removed]",
      "text/plain": [
       "<Figure size 640x480 with 1 Axes>"
      ]
     },
     "metadata": {},
     "output_type": "display_data"
    }
   ],
   "source": [
    "from sklearn.metrics import r2_score\n",
    "import matplotlib.pyplot as plt\n",
    "\n",
    "\n",
    "plt.scatter(Y_pred, model_experimental.Y)\n",
    "plt.title(f\"R2 = {r2_score(Y_pred, model_experimental.Y)}\")"
   ]
  },
  {
   "cell_type": "code",
   "execution_count": null,
   "metadata": {},
   "outputs": [],
   "source": [
    "def run_cobra(model, objective, IN, method='FBA', verbose=False,\n",
    "              objective_fraction=0.75, cobra_min_flux=1.0e-8):\n",
    "    # Inputs:\n",
    "    # - model\n",
    "    # - objective: a list of reactions (only the two first are considered)\n",
    "    # - IN: Initial values for all reaction fluxes\n",
    "    # - method: FBA or pFBA\n",
    "    # run FBA optimization to compute reaction fluxes on the provided model\n",
    "    # set the medium using values in dictionary IN.\n",
    "    # When 2 objectives are given one first maximize the first objective (obj1).\n",
    "    # then one set the upper and lower bounds for that objective to\n",
    "    # objective_fraction * obj1 (e.g. objective_fraction = 0.75) and maximize\n",
    "    # for the second objective\n",
    "    # Outputs:\n",
    "    # - FLUX, the reaction fluxes computed by FBA for all reactions\n",
    "    # - The value for the objective\n",
    "\n",
    "    # set the medium and objective\n",
    "    medium = model.medium\n",
    "\n",
    "\n",
    "    # print(type(model))\n",
    "\n",
    "    # fix solver timeout\n",
    "    model.solver.configuration = optlang.glpk_interface.Configuration(timeout=5, presolve='auto', lp_method='simplex')\n",
    "\n",
    "\n",
    "    medini = medium.copy()\n",
    "\n",
    "    for k in medium.keys(): # Reset the medium\n",
    "        medium[k] = 0\n",
    "    for k in IN.keys(): # Additional cmpds added to medium\n",
    "        if k in medium.keys():\n",
    "            medium[k] = float(IN[k])\n",
    "\n",
    "    \n",
    "    model.medium = medium\n",
    "\n",
    "    # run FBA for primal objective\n",
    "    model.objective = objective[0] \n",
    "    solution = cobra.flux_analysis.pfba(model) if method == 'pFBA' else model.optimize()\n",
    "    solution_val = solution.fluxes[objective[0]]\n",
    "    if verbose:\n",
    "        print('primal objectif =', objective, method, solution_val)\n",
    "\n",
    "    # run FBA for second objective\n",
    "    # primal objectif is set to a fraction of its value\n",
    "    if len(objective) > 1:\n",
    "        obj = model.reactions.get_by_id(objective[0])\n",
    "        obj_lb, obj_ub = obj.lower_bound, obj.upper_bound\n",
    "        obj.lower_bound = objective_fraction * solution_val\n",
    "        obj.upper_bound = objective_fraction * solution_val\n",
    "        model.objective = objective[1]\n",
    "        solution = cobra.flux_analysis.pfba(model) \\\n",
    "        if method == 'pFBA' else model.optimize()\n",
    "        solution_val = solution.fluxes[objective[1]]\n",
    "        if verbose:\n",
    "            print('second objectif =', objective, method, solution_val)\n",
    "\n",
    "        # reset bounds and objective to intial values\n",
    "        obj.lower_bound, obj.upper_bound = obj_lb, obj_ub\n",
    "        model.objective = objective[0]\n",
    "\n",
    "    # get the fluxes for all model reactio\n",
    "    FLUX = IN.copy()\n",
    "    for x in model.reactions:\n",
    "        if x.id in FLUX.keys():\n",
    "            FLUX[x.id] = solution.fluxes[x.id]\n",
    "            if math.fabs(float(FLUX[x.id])) < cobra_min_flux: # !!! if smaller than a min level, return 0 ???\n",
    "                FLUX[x.id] = 0\n",
    "\n",
    "    # Reset medium\n",
    "    model.medium = medini\n",
    "\n",
    "\n",
    "    return FLUX, solution_val"
   ]
  },
  {
   "cell_type": "code",
   "execution_count": null,
   "metadata": {},
   "outputs": [],
   "source": [
    "from library.parallel import *\n",
    "\n",
    "\n",
    "def fit_cobra(cobramodel, objective, i, IN, method='FBA', gene = [], genename = [], verbose=False):\n",
    "    \"\"\"\n",
    "    Fit a COBRA model with A SINGLE data point.\n",
    "\n",
    "    Parameters:\n",
    "    - i (int): position in data array.\n",
    "\n",
    "    Returns:\n",
    "    - y_cobra (float or None): The optimized value of the specified objective function\n",
    "    - rows_with_warnings (list): A list containing indices of rows where warnings were generated during optimization.\n",
    "    \"\"\"\n",
    "    rows_with_warnings = []\n",
    "\n",
    "    with warnings.catch_warnings(record=True) as w, cobramodel:\n",
    "        cobramodel = set_medium(cobramodel,IN, exact = False)\n",
    "        if len(gene) > 0:\n",
    "            cobramodel = knock_out(cobramodel,i,gene,genename, rebound = True, esp = 0)\n",
    "        solution = cobra.flux_analysis.pfba(cobramodel) if method == 'pFBA' else cobramodel.optimize()\n",
    "        y_cobra = solution.fluxes[objective]\n",
    "\n",
    "        #get all fluxes after reactions, TO DOs: also set to bound 0\n",
    "        for key, _ in IN.items():\n",
    "            IN[key] = solution.fluxes[key]\n",
    "\n",
    "        if w:\n",
    "            rows_with_warnings.append(i)\n",
    "        if verbose:\n",
    "            print('objectif =', objective, method, y_cobra)\n",
    "    \n",
    "    return IN, y_cobra, rows_with_warnings"
   ]
  },
  {
   "cell_type": "code",
   "execution_count": null,
   "metadata": {},
   "outputs": [],
   "source": [
    "\n",
    "medium = dict(zip(model_experimental.medium, medium_X[i,:]))\n"
   ]
  }
 ],
 "metadata": {
  "kernelspec": {
   "display_name": "amn",
   "language": "python",
   "name": "python3"
  },
  "language_info": {
   "codemirror_mode": {
    "name": "ipython",
    "version": 3
   },
   "file_extension": ".py",
   "mimetype": "text/x-python",
   "name": "python",
   "nbconvert_exporter": "python",
   "pygments_lexer": "ipython3",
   "version": "3.7.12"
  }
 },
 "nbformat": 4,
 "nbformat_minor": 2
}
