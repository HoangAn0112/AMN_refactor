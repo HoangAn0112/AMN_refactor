{
 "cells": [
  {
   "cell_type": "markdown",
   "metadata": {},
   "source": [
    "# Reservoir computing\n",
    "\n",
    "Here we try to improve the prediction of model on experimental data by using pre-trained AMNWt. This model is pre-trained on simulated data created by using cobra solver. We use this on two pair of dataset. Fist on e_coli, we use e_coli_core_UB as simulated dataset and iML1515_EXP_UB as experimental dataset. Then on P.putida, we use IJN1463_10_UB as simulated dataset and IJN1463_EXP_UB_Anne."
   ]
  },
  {
   "cell_type": "code",
   "execution_count": 43,
   "metadata": {},
   "outputs": [],
   "source": [
    "# E_coli\n",
    "dataset_file_simulated = \"./Dataset/e_coli_core_UB.npz\"\n",
    "objective_simulated=['BIOMASS_Ecoli_core_w_GAM']\n",
    "dataset_file_experimental = \"./Dataset/iML1515_EXP_UB.npz\"\n",
    "objective_experimental=['BIOMASS_Ec_iML1515_core_75p37M']\n",
    "\n",
    "model_file_simulated = \"Models/AMNWt_e_coli_core_UB.keras\"\n",
    "\n",
    "drop_out_rate = 0\n",
    "\n",
    "batch_size = 7\n",
    "epochs = 2000"
   ]
  },
  {
   "cell_type": "markdown",
   "metadata": {},
   "source": [
    "## Load the pre-trained model and simulated dataset information"
   ]
  },
  {
   "cell_type": "code",
   "execution_count": 44,
   "metadata": {},
   "outputs": [
    {
     "name": "stdout",
     "output_type": "stream",
     "text": [
      "number of metabolites:  72\n",
      "filtered measurements size:  1\n",
      "10.0\n",
      "R2 : 0.9888228666362848\n",
      "Q2 : 0.9861056804729627\n"
     ]
    }
   ],
   "source": [
    "import tensorflow as tf\n",
    "from aMNWtModel import AMNWtModel, RNNCell\n",
    "\n",
    "model_class = AMNWtModel\n",
    "seed = 10\n",
    "tf.random.set_seed(seed)\n",
    "\n",
    "\n",
    "model_simulated = model_class(dataset_file=dataset_file_simulated, \n",
    "                   objective=objective_simulated,\n",
    "                   timestep=4,\n",
    "                   hidden_dim=50,\n",
    "                #    epochs=50, \n",
    "                   verbose=True,\n",
    "                #    batch_size=7\n",
    "                   )\n",
    "\n",
    "\n",
    "model_simulated.train_test_split(test_size=0.1, random_state=seed)\n",
    "\n",
    "# Preprocessing\n",
    "from tools import MaxScaler\n",
    "scaler= MaxScaler()\n",
    "model_simulated.preprocess(scaler)\n",
    "print(scaler.max)\n",
    "\n",
    "# Add tree zero column to the Y\n",
    "model_simulated.preprocessing_for_specific_model()\n",
    "\n",
    "\n",
    "from tools import custom_loss\n",
    "AMNWt_model = tf.keras.models.load_model(model_file_simulated, \n",
    "                                          custom_objects={\"RNNCell\":RNNCell,\n",
    "                                                          \"my_mse\":custom_loss(model_simulated.S, \n",
    "                                                                               model_simulated.P_out,\n",
    "                                                                               model_simulated.P_in)}\n",
    "                                          )\n",
    "\n",
    "print(\"R2 :\", model_simulated.R2(model_simulated.Y_train, AMNWt_model.predict(model_simulated.X_train)))\n",
    "print(\"Q2 :\", model_simulated.R2(model_simulated.Y_test, AMNWt_model.predict(model_simulated.X_test)))"
   ]
  },
  {
   "cell_type": "markdown",
   "metadata": {},
   "source": [
    "## Load the experimental data"
   ]
  },
  {
   "cell_type": "code",
   "execution_count": 45,
   "metadata": {},
   "outputs": [
    {
     "name": "stdout",
     "output_type": "stream",
     "text": [
      "---------------------------------------- model ----------------------------------------\n",
      "number of metabolites:  1080\n",
      "filtered measurements size:  1\n",
      "1\n"
     ]
    }
   ],
   "source": [
    "import tensorflow as tf\n",
    "from aMNWtModel import AMNWtModel\n",
    "\n",
    "\n",
    "model_class = AMNWtModel\n",
    "seed = 10 \n",
    "# seed = 20\n",
    "tf.random.set_seed(seed)\n",
    "\n",
    "\n",
    "print(\"---------------------------------------- model ----------------------------------------\")\n",
    "model_experimental = model_class(dataset_file=dataset_file_experimental, \n",
    "                   objective=objective_experimental,\n",
    "                   timestep=4,\n",
    "                #    n_hidden=1, \n",
    "                   hidden_dim=50,\n",
    "                  #  epochs=50, \n",
    "                   verbose=True,\n",
    "                  #  batch_size=7\n",
    "                   )\n",
    "\n",
    "# Preprocessing\n",
    "model_experimental.train_test_split(test_size=0.1, random_state=seed)\n",
    "from tools import MaxScaler\n",
    "scaler= MaxScaler()\n",
    "model_experimental.preprocess(scaler)\n",
    "print(scaler.max)\n",
    "\n",
    "# Add tree zero column to the Y\n",
    "model_experimental.preprocessing_for_specific_model()"
   ]
  },
  {
   "cell_type": "markdown",
   "metadata": {},
   "source": [
    "## Add a layer to old pre-trained model and fix model weights"
   ]
  },
  {
   "cell_type": "code",
   "execution_count": 46,
   "metadata": {},
   "outputs": [],
   "source": [
    "\n",
    "from tensorflow.keras import Model, Input, layers\n",
    "\n",
    "input_size_exp = model_experimental.X.shape[1]\n",
    "input_size_sim = model_simulated.X.shape[1]\n",
    "\n",
    "\n",
    "sub_model = AMNWt_model\n",
    "sub_model.trainable = False\n",
    "drop_out = layers.Dropout(drop_out_rate, input_shape=(input_size_sim,))\n",
    "layer = layers.Dense(input_size_sim,activation='relu')\n",
    "\n",
    "inputs = Input((input_size_exp))\n",
    "x = layer(drop_out(inputs))\n",
    "y = sub_model(x)\n",
    "new_model = Model(inputs=inputs, \n",
    "                  outputs=y)\n",
    "new_model.compile(optimizer='adam',\n",
    "              loss=custom_loss(model_simulated.S, model_simulated.P_out, model_simulated.P_in),\n",
    "              metrics=None)"
   ]
  },
  {
   "cell_type": "code",
   "execution_count": 47,
   "metadata": {},
   "outputs": [],
   "source": [
    "import numpy as np\n",
    "scaler= MaxScaler()\n",
    "\n",
    "X = scaler.fit_transform(model_experimental.X)\n",
    "Y = np.concatenate((model_experimental.Y, np.zeros((len(model_experimental.Y),3))), axis=1)\n",
    "\n",
    "# Shuffle dataset\n",
    "idx = np.arange(len(X))\n",
    "np.random.shuffle(idx)\n",
    "X = X[idx]\n",
    "Y = Y[idx]"
   ]
  },
  {
   "cell_type": "code",
   "execution_count": 48,
   "metadata": {},
   "outputs": [
    {
     "name": "stdout",
     "output_type": "stream",
     "text": [
      "0.6152958264321058\n"
     ]
    }
   ],
   "source": [
    "history = new_model.fit(X, Y, epochs=epochs, batch_size=batch_size, verbose=0)\n",
    "R_2 = model_simulated.R2(Y, new_model.predict(X))\n",
    "print(R_2)"
   ]
  },
  {
   "cell_type": "markdown",
   "metadata": {},
   "source": [
    "## Using cobra with output of the new_model as input on e_coli (for now)"
   ]
  },
  {
   "cell_type": "code",
   "execution_count": 49,
   "metadata": {},
   "outputs": [
    {
     "data": {
      "text/plain": [
       "<tf.Tensor: shape=(20,), dtype=float32, numpy=\n",
       "array([ 0.       ,  2.2603707,  1.4901307,  1.2036135,  0.       ,\n",
       "        3.2522714,  1.0129282, 81.763855 ,  0.       ,  0.       ,\n",
       "       21.085003 ,  0.       ,  0.       ,  0.       ,  0.4716106,\n",
       "        0.       ,  0.       ,  0.       ,  0.       , 30.770226 ],\n",
       "      dtype=float32)>"
      ]
     },
     "execution_count": 49,
     "metadata": {},
     "output_type": "execute_result"
    }
   ],
   "source": [
    "# V_in is not zero\n",
    "V_in = layer(X)\n",
    "V_in[0]"
   ]
  },
  {
   "cell_type": "code",
   "execution_count": 50,
   "metadata": {},
   "outputs": [
    {
     "name": "stderr",
     "output_type": "stream",
     "text": [
      "/home/agiralt/anaconda3/envs/AMN/lib/python3.9/site-packages/cobra/util/solver.py:554: UserWarning: Solver status is 'infeasible'.\n",
      "  warn(f\"Solver status is '{status}'.\", UserWarning)\n"
     ]
    }
   ],
   "source": [
    "import cobra\n",
    "from run_cobra import run_cobra\n",
    "\n",
    "# experimental\n",
    "cobra_model = cobra.io.read_sbml_model(\"Dataset/iML1515_EXP_UB.xml\")\n",
    "objective = [\"BIOMASS_Ec_iML1515_core_75p37M\"]\n",
    "\n",
    "# simulated\n",
    "cobra_model = cobra.io.read_sbml_model(\"Dataset/e_coli_core_UB.xml\")\n",
    "objective = ['BIOMASS_Ecoli_core_w_GAM']\n",
    "\n",
    "Y_pred = []\n",
    "for i in range(V_in.shape[0]):\n",
    "\n",
    "    inf = {r.id: 0 for r in cobra_model.reactions}\n",
    "    ## Reaction must be linked to e_coli_model\n",
    "    for j in range(V_in.shape[1]):\n",
    "        inf[model_simulated.medium[j]] = V_in[i,j]\n",
    "        result = run_cobra(cobra_model,objective , inf)\n",
    "\n",
    "    Y_pred.append(result[1])\n"
   ]
  },
  {
   "cell_type": "code",
   "execution_count": 51,
   "metadata": {},
   "outputs": [],
   "source": [
    "TRUE = Y[:,0]\n",
    "PRED = Y_pred"
   ]
  },
  {
   "cell_type": "code",
   "execution_count": 53,
   "metadata": {},
   "outputs": [
    {
     "data": {
      "text/plain": [
       "-3.5086795887646236"
      ]
     },
     "execution_count": 53,
     "metadata": {},
     "output_type": "execute_result"
    }
   ],
   "source": [
    "import sklearn\n",
    "sklearn.metrics.r2_score(TRUE, PRED)"
   ]
  },
  {
   "cell_type": "code",
   "execution_count": 61,
   "metadata": {},
   "outputs": [
    {
     "data": {
      "text/plain": [
       "[0.09682907704330994,\n",
       " 0.07537114346496096,\n",
       " 0.07242725622149128,\n",
       " 0.08879089703135398,\n",
       " 0.06824705748690009,\n",
       " 0.0855741454704246,\n",
       " 0.08092601562265156,\n",
       " 0.07644695652246854,\n",
       " 0.08372901673286827,\n",
       " 0.07688571655506439,\n",
       " 0.09540455047247472,\n",
       " 0.08501204835220887,\n",
       " 0.07072037178214262,\n",
       " 0.08448622419568479,\n",
       " 0.09113549268931746,\n",
       " 0.07536850541069437,\n",
       " 0.09477410512623699,\n",
       " 0.07127605356353407,\n",
       " 0.09023544041889857,\n",
       " 0.09320492424783035,\n",
       " 0.09165996698973387,\n",
       " 0.08242535770107548,\n",
       " 0.05919114772964472,\n",
       " 0.055731080708579274,\n",
       " 0.091253455612982,\n",
       " 0.077626828813769,\n",
       " 0.08255311536539979,\n",
       " 0.06809001322416659,\n",
       " 0.0797416845796721,\n",
       " 0.08245538378540719,\n",
       " 0.07050537342508531,\n",
       " 0.09177928355028463,\n",
       " 0.09277109618720714,\n",
       " 0.061921832598777565,\n",
       " 0.07946084490858152,\n",
       " 0.07391467024419239,\n",
       " 0.07097327648317157,\n",
       " 0.08215820685444801,\n",
       " 0.07753188754504714,\n",
       " 0.07043251992677048,\n",
       " 0.08292524588829303,\n",
       " 0.07210961105745126,\n",
       " 0.06906833900753719,\n",
       " 0.08698968087716424,\n",
       " 0.0784057597389006,\n",
       " 0.07992543720759376,\n",
       " 0.07743353953066227,\n",
       " 0.08776916039112176,\n",
       " 0.08094888151381242,\n",
       " 0.07366098275014091,\n",
       " 0.07768976701614302,\n",
       " 0.06680783034665722,\n",
       " 0.07854772393657504,\n",
       " 0.08412031434248166,\n",
       " 0.07645779214799438,\n",
       " 0.08943670295064453,\n",
       " 0.07382742980923965,\n",
       " 0.09006183806445567,\n",
       " 0.09194079909926724,\n",
       " 0.07460579137274471,\n",
       " 0.08659808669124815,\n",
       " 0.0826613585410071,\n",
       " 0.08541710098213326,\n",
       " 0.07170477065594807,\n",
       " 0.06641882986078387,\n",
       " 0.0866101734967085,\n",
       " 0.07888074251972245,\n",
       " 0.061070409851915315,\n",
       " 0.07735828897138272,\n",
       " 0.06609510404475183,\n",
       " 0.0645750608286931,\n",
       " 0.06375280893685903,\n",
       " 0.06713937408244552,\n",
       " 0.07603733356493317,\n",
       " 0.08798286791303275,\n",
       " 0.07441105141555614,\n",
       " 0.09263100167047461,\n",
       " 0.06923144918581887,\n",
       " 0.0939600070849301,\n",
       " 0.0819104107156784,\n",
       " 0.07298064539029889,\n",
       " 0.07869056179484862,\n",
       " 0.08337315129134333,\n",
       " 0.08912237507611426,\n",
       " 0.0769615536139921,\n",
       " 0.10217178945132904,\n",
       " 0.0792310589812454,\n",
       " 0.06820183542227458,\n",
       " 0.07897643093259162,\n",
       " 0.07476283550658813,\n",
       " 0.08390531598542438,\n",
       " 0.08861729467691107,\n",
       " 0.0825301856736002,\n",
       " 0.05415442266968581,\n",
       " 0.08071101726559424,\n",
       " 0.08377966266809525,\n",
       " 0.07945315459010285,\n",
       " 0.08179485495574465,\n",
       " 0.09429148512969034,\n",
       " 0.09305386444205156,\n",
       " 0.07399246079490114,\n",
       " 0.06917929592290768,\n",
       " 0.07395535932713641,\n",
       " 0.09642257322811526,\n",
       " 0.07354454783029367,\n",
       " 0.06348577761439128,\n",
       " 0.08344818462333493,\n",
       " 0.07297869515299484,\n",
       " 0.06415460198785147,\n",
       " 0.0725327324256914]"
      ]
     },
     "execution_count": 61,
     "metadata": {},
     "output_type": "execute_result"
    }
   ],
   "source": [
    "PRED"
   ]
  },
  {
   "cell_type": "code",
   "execution_count": 60,
   "metadata": {},
   "outputs": [
    {
     "data": {
      "text/plain": [
       "array([0.07036642, 0.08812777, 0.30990109, 0.15756536, 0.36883461,\n",
       "       0.19897683, 0.22768201, 0.33618463, 0.20772926, 0.19995003,\n",
       "       0.15491189, 0.13398423, 0.34018671, 0.16647387, 0.19236413,\n",
       "       0.26806339, 0.23150512, 0.29771937, 0.13505459, 0.27124001,\n",
       "       0.09241834, 0.26096546, 0.33546881, 0.07198777, 0.10823699,\n",
       "       0.16958847, 0.24690668, 0.38366267, 0.21547613, 0.30221964,\n",
       "       0.33156464, 0.16739003, 0.19488304, 0.39292909, 0.19885259,\n",
       "       0.29190893, 0.36209367, 0.16876883, 0.22754484, 0.33509878,\n",
       "       0.2020666 , 0.30498805, 0.26057603, 0.20953583, 0.17060508,\n",
       "       0.16546936, 0.41345674, 0.2246795 , 0.25305511, 0.24051223,\n",
       "       0.19361131, 0.30265454, 0.27081596, 0.23701745, 0.25491721,\n",
       "       0.12092238, 0.33610419, 0.10738262, 0.1319873 , 0.27311799,\n",
       "       0.11354416, 0.16118613, 0.13401356, 0.25608325, 0.39489686,\n",
       "       0.26244328, 0.20408691, 0.32553523, 0.18870321, 0.35197431,\n",
       "       0.29636434, 0.36538323, 0.27056665, 0.24511303, 0.22554864,\n",
       "       0.23097749, 0.15845945, 0.34417111, 0.1538375 , 0.20374745,\n",
       "       0.23210631, 0.24372697, 0.18620895, 0.13622547, 0.2193191 ,\n",
       "       0.10592987, 0.213108  , 0.29449714, 0.24608594, 0.25188356,\n",
       "       0.23855667, 0.13677539, 0.27848961, 0.37845481, 0.18857016,\n",
       "       0.08998277, 0.27287331, 0.18627597, 0.17652818, 0.14489149,\n",
       "       0.23969573, 0.36748529, 0.42053848, 0.0765294 , 0.24291983,\n",
       "       0.30484688, 0.10538765, 0.28162631, 0.36302645, 0.24085268])"
      ]
     },
     "execution_count": 60,
     "metadata": {},
     "output_type": "execute_result"
    }
   ],
   "source": [
    "TRUE"
   ]
  },
  {
   "cell_type": "code",
   "execution_count": 66,
   "metadata": {},
   "outputs": [
    {
     "data": {
      "image/png": "[encoded data removed]",
      "text/plain": [
       "<Figure size 640x480 with 1 Axes>"
      ]
     },
     "metadata": {},
     "output_type": "display_data"
    }
   ],
   "source": [
    "from tools import plot_regression\n",
    "plot_regression(PRED, TRUE, \"\", \"\",\"\")"
   ]
  },
  {
   "cell_type": "code",
   "execution_count": null,
   "metadata": {},
   "outputs": [],
   "source": []
  }
 ],
 "metadata": {
  "kernelspec": {
   "display_name": "AMN",
   "language": "python",
   "name": "python3"
  },
  "language_info": {
   "codemirror_mode": {
    "name": "ipython",
    "version": 3
   },
   "file_extension": ".py",
   "mimetype": "text/x-python",
   "name": "python",
   "nbconvert_exporter": "python",
   "pygments_lexer": "ipython3",
   "version": "3.9.13"
  },
  "orig_nbformat": 4
 },
 "nbformat": 4,
 "nbformat_minor": 2
}
