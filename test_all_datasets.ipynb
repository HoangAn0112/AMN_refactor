{
 "cells": [
  {
   "attachments": {},
   "cell_type": "markdown",
   "metadata": {},
   "source": [
    "## Run AMN_Wt model on all datasets"
   ]
  },
  {
   "cell_type": "code",
   "execution_count": 1,
   "metadata": {},
   "outputs": [
    {
     "name": "stdout",
     "output_type": "stream",
     "text": [
      "---------------------------------------- model ----------------------------------------\n",
      "number of metabolites:  72\n",
      "filtered measurements size:  1\n",
      "dataset file: ./Dataset/e_coli_core_UB_100.npz\n",
      "model type: AMNWt\n",
      "model medium bound: UB\n",
      "timestep: 4\n",
      "training set size (100, 20) (100, 1)\n",
      "nbr hidden layer: 1\n",
      "hidden layer size: 50\n",
      "activation function: relu\n",
      "training epochs: 200\n",
      "training regression: True\n",
      "training droP_out: 0.25\n",
      "training batch size: 7\n",
      "training validation iter: 0\n",
      "training xfold: 5\n",
      "training early stopping: False\n",
      "---------------------------------------- train and evaluate ----------------------------------------\n",
      "WARNING:tensorflow:From /home/agiralt/anaconda3/envs/AMN/lib/python3.9/site-packages/tensorflow/python/ops/math_ops.py:3633: sparse_mat_mul (from tensorflow.python.ops.gen_math_ops) is deprecated and will be removed in a future version.\n",
      "Instructions for updating:\n",
      "Use `tf.linalg.matmul` instead\n"
     ]
    },
    {
     "name": "stderr",
     "output_type": "stream",
     "text": [
      "2023-08-31 13:58:23.781235: I tensorflow/core/platform/cpu_feature_guard.cc:142] This TensorFlow binary is optimized with oneAPI Deep Neural Network Library (oneDNN) to use the following CPU instructions in performance-critical operations:  SSE4.1 SSE4.2 AVX AVX2 FMA\n",
      "To enable them in other operations, rebuild TensorFlow with the appropriate compiler flags.\n",
      "2023-08-31 13:58:23.782714: I tensorflow/core/common_runtime/process_util.cc:146] Creating new thread pool with default inter op setting: 2. Tune using inter_op_parallelism_threads for best performance.\n",
      "2023-08-31 13:58:24.199284: I tensorflow/compiler/mlir/mlir_graph_optimization_pass.cc:185] None of the MLIR Optimization Passes are enabled (registered 2)\n"
     ]
    },
    {
     "name": "stdout",
     "output_type": "stream",
     "text": [
      "train = 0.94 test = 0.93 loss-train = 0.004192 loss-test = 0.004219\n",
      "train = 0.93 test = 0.93 loss-train = 0.004445 loss-test = 0.004249\n",
      "train = 0.94 test = 0.90 loss-train = 0.004178 loss-test = 0.003627\n",
      "train = 0.94 test = 0.94 loss-train = 0.003930 loss-test = 0.004878\n",
      "train = 0.94 test = 0.96 loss-train = 0.003570 loss-test = 0.003629\n",
      "---------------------------------------- printing cross-validation results ----------------------------------------\n",
      "Stats for e_coli_core_UB_50_AMN_Wt CPU-time 240.6598\n",
      "R2 = 0.9394 (+/- 0.0036) Constraint = 0.0041 (+/- 0.0003)\n",
      "Q2 = 0.9311 (+/- 0.0170) Constraint = 0.0041 (+/- 0.0005)\n",
      "---------------------------------------- evaluate model on test set ----------------------------------------\n",
      "Stats for Test set CPU-time 0.0611\n",
      "R2 = 0.8851 Constraint = 0.0033\n"
     ]
    }
   ],
   "source": [
    "import time\n",
    "import numpy as np\n",
    "import tensorflow as tf\n",
    "from aMNWtModel import AMNWtModel\n",
    "from tools import printout\n",
    "from sklearn.preprocessing import MinMaxScaler,StandardScaler,MaxAbsScaler \n",
    "from tools import MaxScaler\n",
    "scaler= MaxScaler()\n",
    "\n",
    "seed = 10\n",
    "np.random.seed(seed=seed)  \n",
    "tf.random.set_seed(seed)\n",
    "\n",
    "print(\"---------------------------------------- model ----------------------------------------\")\n",
    "model = AMNWtModel(dataset_file=\"./Dataset/e_coli_core_UB_100.npz\", \n",
    "                   objective=['BIOMASS_Ecoli_core_w_GAM'],\n",
    "                   timestep=4,\n",
    "                   n_hidden=1,\n",
    "                   hidden_dim=50,\n",
    "                   epochs=200, \n",
    "                   xfold=5,\n",
    "                   verbose=True,\n",
    "                   batch_size=7)\n",
    "model.printout()\n",
    "\n",
    "\n",
    "model.train_test_split(test_size=0.1, random_state=seed)\n",
    "model.preprocess(scaler)\n",
    "model.preprocessing_for_specific_model()\n",
    "\n",
    "\n",
    "print(\"---------------------------------------- train and evaluate ----------------------------------------\")\n",
    "start_time = time.time()\n",
    "_, stats, _ = model.train_evaluate(verbose=False)\n",
    "reservoir = model\n",
    "delta_time = time.time() - start_time\n",
    "\n",
    "print(\"---------------------------------------- printing cross-validation results ----------------------------------------\")\n",
    "reservoir_name = \"e_coli_core_UB_50_AMN_Wt\"\n",
    "stats.printout(reservoir_name, delta_time)\n",
    "\n",
    "# reservoir.save(\"./Reservoir/e_coli_core_UB_50_AMN_Wt\")\n",
    "# reservoir.printout()\n",
    "\n",
    "print(\"---------------------------------------- evaluate model on test set ----------------------------------------\")\n",
    "\n",
    "start_time = time.time()\n",
    "pred, obj, loss = reservoir.test_model()\n",
    "delta_time = time.time() - start_time\n",
    "printout('Test set', delta_time, obj, loss)"
   ]
  },
  {
   "cell_type": "code",
   "execution_count": null,
   "metadata": {},
   "outputs": [],
   "source": []
  },
  {
   "cell_type": "code",
   "execution_count": null,
   "metadata": {},
   "outputs": [],
   "source": []
  }
 ],
 "metadata": {
  "kernelspec": {
   "display_name": "AMN",
   "language": "python",
   "name": "python3"
  },
  "language_info": {
   "codemirror_mode": {
    "name": "ipython",
    "version": 3
   },
   "file_extension": ".py",
   "mimetype": "text/x-python",
   "name": "python",
   "nbconvert_exporter": "python",
   "pygments_lexer": "ipython3",
   "version": "3.9.13"
  },
  "orig_nbformat": 4
 },
 "nbformat": 4,
 "nbformat_minor": 2
}
