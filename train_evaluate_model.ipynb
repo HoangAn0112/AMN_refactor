{
 "cells": [
  {
   "attachments": {},
   "cell_type": "markdown",
   "metadata": {},
   "source": [
    "## Train and evaluate model using Scikit-learn and Keras wrapper "
   ]
  },
  {
   "cell_type": "code",
   "execution_count": 1,
   "metadata": {},
   "outputs": [
    {
     "name": "stdout",
     "output_type": "stream",
     "text": [
      "---------------------------------------- model ----------------------------------------\n",
      "number of metabolites:  72\n",
      "filtered measurements size:  1\n",
      "dataset file: ./Dataset/e_coli_core_UB_100.npz\n",
      "model type: AMNWt\n",
      "model medium bound: UB\n",
      "timestep: 4\n",
      "training set size (100, 20) (100, 1)\n",
      "training epochs: 50\n",
      "training regression: True\n",
      "training batch size: 7\n",
      "training validation iter: 0\n",
      "training early stopping: False\n"
     ]
    }
   ],
   "source": [
    "import tensorflow as tf\n",
    "from aMNWtModel import AMNWtModel\n",
    "from aMRNNModel import AMRNNModel\n",
    "\n",
    "\n",
    "model_class = AMRNNModel\n",
    "# model_class = AMNWtModel\n",
    "\n",
    "seed = 10\n",
    "# np.random.seed(seed=seed)  \n",
    "tf.random.set_seed(seed)\n",
    "\n",
    "# dataset_file = \"./Dataset/IJN1463_EXP_UB_Anne.npz\"\n",
    "# objective=['BIOMASS_KT2440_WT3']\n",
    "\n",
    "# dataset_file = \"./Dataset/IJN1463_10_UB.npz\"\n",
    "# objective=['BIOMASS_KT2440_WT3']\n",
    "\n",
    "dataset_file = \"./Dataset/e_coli_core_UB_100.npz\"\n",
    "objective=['BIOMASS_Ecoli_core_w_GAM']\n",
    "epoch = 200\n",
    "batch_size = 7\n",
    "\n",
    "\n",
    "# dataset_file = \"./Dataset/biolog_iML1515_EXP_UB.npz\"\n",
    "# objective=['BIOMASS_Ec_iML1515_core_75p37M']\n",
    "# epoch = 20\n",
    "# batch_size = 30\n",
    "\n",
    "\n",
    "\n",
    "print(\"---------------------------------------- model ----------------------------------------\")\n",
    "model = model_class(dataset_file=dataset_file, \n",
    "                   objective=objective,\n",
    "                   timestep=4,\n",
    "                #    n_hidden=1, \n",
    "                   hidden_dim=50,\n",
    "                   epochs=50, \n",
    "                   verbose=True,\n",
    "                   batch_size=7)\n",
    "model.printout()\n",
    "\n",
    "# Preprocessing\n",
    "from sklearn.preprocessing import MinMaxScaler,StandardScaler,MaxAbsScaler \n",
    "from tools import MaxScaler\n",
    "scaler= MaxScaler()\n",
    "model.train_test_split(test_size=0.1, random_state=seed)\n",
    "model.preprocess(scaler)\n",
    "model.preprocessing_for_specific_model()"
   ]
  },
  {
   "cell_type": "code",
   "execution_count": 2,
   "metadata": {},
   "outputs": [
    {
     "name": "stderr",
     "output_type": "stream",
     "text": [
      "2023-09-28 11:41:13.640222: I tensorflow/core/platform/cpu_feature_guard.cc:142] This TensorFlow binary is optimized with oneAPI Deep Neural Network Library (oneDNN) to use the following CPU instructions in performance-critical operations:  SSE4.1 SSE4.2 AVX AVX2 FMA\n",
      "To enable them in other operations, rebuild TensorFlow with the appropriate compiler flags.\n",
      "2023-09-28 11:41:13.642139: I tensorflow/core/common_runtime/process_util.cc:146] Creating new thread pool with default inter op setting: 5. Tune using inter_op_parallelism_threads for best performance.\n",
      "2023-09-28 11:41:13.657782: I tensorflow/core/platform/cpu_feature_guard.cc:142] This TensorFlow binary is optimized with oneAPI Deep Neural Network Library (oneDNN) to use the following CPU instructions in performance-critical operations:  SSE4.1 SSE4.2 AVX AVX2 FMA\n",
      "To enable them in other operations, rebuild TensorFlow with the appropriate compiler flags.\n",
      "2023-09-28 11:41:13.659254: I tensorflow/core/common_runtime/process_util.cc:146] Creating new thread pool with default inter op setting: 5. Tune using inter_op_parallelism_threads for best performance.\n",
      "2023-09-28 11:41:13.661825: I tensorflow/core/platform/cpu_feature_guard.cc:142] This TensorFlow binary is optimized with oneAPI Deep Neural Network Library (oneDNN) to use the following CPU instructions in performance-critical operations:  SSE4.1 SSE4.2 AVX AVX2 FMA\n",
      "To enable them in other operations, rebuild TensorFlow with the appropriate compiler flags.\n",
      "2023-09-28 11:41:13.663278: I tensorflow/core/common_runtime/process_util.cc:146] Creating new thread pool with default inter op setting: 5. Tune using inter_op_parallelism_threads for best performance.\n",
      "2023-09-28 11:41:13.669220: I tensorflow/core/platform/cpu_feature_guard.cc:142] This TensorFlow binary is optimized with oneAPI Deep Neural Network Library (oneDNN) to use the following CPU instructions in performance-critical operations:  SSE4.1 SSE4.2 AVX AVX2 FMA\n",
      "To enable them in other operations, rebuild TensorFlow with the appropriate compiler flags.\n",
      "2023-09-28 11:41:13.670850: I tensorflow/core/common_runtime/process_util.cc:146] Creating new thread pool with default inter op setting: 5. Tune using inter_op_parallelism_threads for best performance.\n",
      "2023-09-28 11:41:13.683426: I tensorflow/core/platform/cpu_feature_guard.cc:142] This TensorFlow binary is optimized with oneAPI Deep Neural Network Library (oneDNN) to use the following CPU instructions in performance-critical operations:  SSE4.1 SSE4.2 AVX AVX2 FMA\n",
      "To enable them in other operations, rebuild TensorFlow with the appropriate compiler flags.\n",
      "2023-09-28 11:41:13.685201: I tensorflow/core/common_runtime/process_util.cc:146] Creating new thread pool with default inter op setting: 5. Tune using inter_op_parallelism_threads for best performance.\n",
      "2023-09-28 11:41:13.783247: I tensorflow/compiler/mlir/mlir_graph_optimization_pass.cc:185] None of the MLIR Optimization Passes are enabled (registered 2)\n",
      "2023-09-28 11:41:13.799614: I tensorflow/compiler/mlir/mlir_graph_optimization_pass.cc:185] None of the MLIR Optimization Passes are enabled (registered 2)\n",
      "2023-09-28 11:41:13.800050: I tensorflow/compiler/mlir/mlir_graph_optimization_pass.cc:185] None of the MLIR Optimization Passes are enabled (registered 2)\n",
      "2023-09-28 11:41:13.810413: I tensorflow/compiler/mlir/mlir_graph_optimization_pass.cc:185] None of the MLIR Optimization Passes are enabled (registered 2)\n",
      "2023-09-28 11:41:13.831161: I tensorflow/compiler/mlir/mlir_graph_optimization_pass.cc:185] None of the MLIR Optimization Passes are enabled (registered 2)\n"
     ]
    },
    {
     "data": {
      "text/plain": [
       "{'fit_time': array([42.55647302, 22.05368304, 23.65045524, 42.48882818, 22.75957942]),\n",
       " 'score_time': array([0.25814939, 0.52500463, 0.37679505, 0.26170731, 0.44021916]),\n",
       " 'test_loss_constraint': array([0.00293733, 0.00276875, 0.00239859, 0.00350387, 0.00325889]),\n",
       " 'train_loss_constraint': array([0.00290694, 0.00291008, 0.00296493, 0.00270413, 0.0031631 ]),\n",
       " 'test_mse': array([0.00252928, 0.00233012, 0.00189623, 0.00296542, 0.00268035]),\n",
       " 'train_mse': array([0.00239605, 0.00239411, 0.00241321, 0.00225422, 0.00260918]),\n",
       " 'test_R2': array([0.92521462, 0.93421866, 0.94492294, 0.93667753, 0.94572059]),\n",
       " 'train_R2': array([0.94580985, 0.94827208, 0.95900597, 0.93698893, 0.94046265])}"
      ]
     },
     "execution_count": 2,
     "metadata": {},
     "output_type": "execute_result"
    }
   ],
   "source": [
    "# cross validation\n",
    "from sklearn.metrics import make_scorer\n",
    "from sklearn.model_selection import KFold, cross_validate\n",
    "from tensorflow.keras.wrappers.scikit_learn import KerasRegressor\n",
    "\n",
    "estimator= KerasRegressor(build_fn=model.build_model, \n",
    "                          epochs=epoch, \n",
    "                          batch_size=batch_size, \n",
    "                          verbose=0)\n",
    "\n",
    "scoring = {\"loss_constraint\":make_scorer(model.loss_constraint),\n",
    "           \"mse\":make_scorer(model.mse),\n",
    "           \"R2\":make_scorer(model.R2),\n",
    "           }\n",
    "\n",
    "\n",
    "\n",
    "callback = tf.keras.callbacks.EarlyStopping(monitor='loss', patience=3)\n",
    "fit_params = {'callbacks': [callback]}\n",
    "fit_params = {}\n",
    "\n",
    "kfold= KFold(n_splits=5,shuffle=True, random_state=seed)\n",
    "\n",
    "results=cross_validate(estimator, \n",
    "                       model.X_train, \n",
    "                       model.Y_train, \n",
    "                       cv=kfold, \n",
    "                       n_jobs=5, \n",
    "                       scoring=scoring, \n",
    "                       fit_params=fit_params,\n",
    "                       return_train_score=True)\n",
    "results"
   ]
  },
  {
   "cell_type": "code",
   "execution_count": 3,
   "metadata": {},
   "outputs": [
    {
     "data": {
      "text/html": [
       "<div>\n",
       "<style scoped>\n",
       "    .dataframe tbody tr th:only-of-type {\n",
       "        vertical-align: middle;\n",
       "    }\n",
       "\n",
       "    .dataframe tbody tr th {\n",
       "        vertical-align: top;\n",
       "    }\n",
       "\n",
       "    .dataframe thead th {\n",
       "        text-align: right;\n",
       "    }\n",
       "</style>\n",
       "<table border=\"1\" class=\"dataframe\">\n",
       "  <thead>\n",
       "    <tr style=\"text-align: right;\">\n",
       "      <th></th>\n",
       "      <th>fit_time</th>\n",
       "      <th>score_time</th>\n",
       "      <th>test_loss_constraint</th>\n",
       "      <th>train_loss_constraint</th>\n",
       "      <th>test_mse</th>\n",
       "      <th>train_mse</th>\n",
       "      <th>test_R2</th>\n",
       "      <th>train_R2</th>\n",
       "    </tr>\n",
       "  </thead>\n",
       "  <tbody>\n",
       "    <tr>\n",
       "      <th>count</th>\n",
       "      <td>5.000000</td>\n",
       "      <td>5.000000</td>\n",
       "      <td>5.000000</td>\n",
       "      <td>5.000000</td>\n",
       "      <td>5.000000</td>\n",
       "      <td>5.000000</td>\n",
       "      <td>5.000000</td>\n",
       "      <td>5.000000</td>\n",
       "    </tr>\n",
       "    <tr>\n",
       "      <th>mean</th>\n",
       "      <td>30.701804</td>\n",
       "      <td>0.372375</td>\n",
       "      <td>0.002973</td>\n",
       "      <td>0.002930</td>\n",
       "      <td>0.002480</td>\n",
       "      <td>0.002413</td>\n",
       "      <td>0.937351</td>\n",
       "      <td>0.946108</td>\n",
       "    </tr>\n",
       "    <tr>\n",
       "      <th>std</th>\n",
       "      <td>10.805757</td>\n",
       "      <td>0.115340</td>\n",
       "      <td>0.000429</td>\n",
       "      <td>0.000164</td>\n",
       "      <td>0.000400</td>\n",
       "      <td>0.000127</td>\n",
       "      <td>0.008440</td>\n",
       "      <td>0.008458</td>\n",
       "    </tr>\n",
       "    <tr>\n",
       "      <th>min</th>\n",
       "      <td>22.053683</td>\n",
       "      <td>0.258149</td>\n",
       "      <td>0.002399</td>\n",
       "      <td>0.002704</td>\n",
       "      <td>0.001896</td>\n",
       "      <td>0.002254</td>\n",
       "      <td>0.925215</td>\n",
       "      <td>0.936989</td>\n",
       "    </tr>\n",
       "    <tr>\n",
       "      <th>25%</th>\n",
       "      <td>22.759579</td>\n",
       "      <td>0.261707</td>\n",
       "      <td>0.002769</td>\n",
       "      <td>0.002907</td>\n",
       "      <td>0.002330</td>\n",
       "      <td>0.002394</td>\n",
       "      <td>0.934219</td>\n",
       "      <td>0.940463</td>\n",
       "    </tr>\n",
       "    <tr>\n",
       "      <th>50%</th>\n",
       "      <td>23.650455</td>\n",
       "      <td>0.376795</td>\n",
       "      <td>0.002937</td>\n",
       "      <td>0.002910</td>\n",
       "      <td>0.002529</td>\n",
       "      <td>0.002396</td>\n",
       "      <td>0.936678</td>\n",
       "      <td>0.945810</td>\n",
       "    </tr>\n",
       "    <tr>\n",
       "      <th>75%</th>\n",
       "      <td>42.488828</td>\n",
       "      <td>0.440219</td>\n",
       "      <td>0.003259</td>\n",
       "      <td>0.002965</td>\n",
       "      <td>0.002680</td>\n",
       "      <td>0.002413</td>\n",
       "      <td>0.944923</td>\n",
       "      <td>0.948272</td>\n",
       "    </tr>\n",
       "    <tr>\n",
       "      <th>max</th>\n",
       "      <td>42.556473</td>\n",
       "      <td>0.525005</td>\n",
       "      <td>0.003504</td>\n",
       "      <td>0.003163</td>\n",
       "      <td>0.002965</td>\n",
       "      <td>0.002609</td>\n",
       "      <td>0.945721</td>\n",
       "      <td>0.959006</td>\n",
       "    </tr>\n",
       "  </tbody>\n",
       "</table>\n",
       "</div>"
      ],
      "text/plain": [
       "        fit_time  score_time  test_loss_constraint  train_loss_constraint  \\\n",
       "count   5.000000    5.000000              5.000000               5.000000   \n",
       "mean   30.701804    0.372375              0.002973               0.002930   \n",
       "std    10.805757    0.115340              0.000429               0.000164   \n",
       "min    22.053683    0.258149              0.002399               0.002704   \n",
       "25%    22.759579    0.261707              0.002769               0.002907   \n",
       "50%    23.650455    0.376795              0.002937               0.002910   \n",
       "75%    42.488828    0.440219              0.003259               0.002965   \n",
       "max    42.556473    0.525005              0.003504               0.003163   \n",
       "\n",
       "       test_mse  train_mse   test_R2  train_R2  \n",
       "count  5.000000   5.000000  5.000000  5.000000  \n",
       "mean   0.002480   0.002413  0.937351  0.946108  \n",
       "std    0.000400   0.000127  0.008440  0.008458  \n",
       "min    0.001896   0.002254  0.925215  0.936989  \n",
       "25%    0.002330   0.002394  0.934219  0.940463  \n",
       "50%    0.002529   0.002396  0.936678  0.945810  \n",
       "75%    0.002680   0.002413  0.944923  0.948272  \n",
       "max    0.002965   0.002609  0.945721  0.959006  "
      ]
     },
     "execution_count": 3,
     "metadata": {},
     "output_type": "execute_result"
    }
   ],
   "source": [
    "import pandas as pd\n",
    "df = pd.DataFrame(results)\n",
    "df.describe()"
   ]
  },
  {
   "cell_type": "code",
   "execution_count": 4,
   "metadata": {},
   "outputs": [
    {
     "name": "stderr",
     "output_type": "stream",
     "text": [
      "2023-09-28 11:41:56.700244: I tensorflow/core/platform/cpu_feature_guard.cc:142] This TensorFlow binary is optimized with oneAPI Deep Neural Network Library (oneDNN) to use the following CPU instructions in performance-critical operations:  SSE4.1 SSE4.2 AVX AVX2 FMA\n",
      "To enable them in other operations, rebuild TensorFlow with the appropriate compiler flags.\n",
      "2023-09-28 11:41:56.701969: I tensorflow/core/common_runtime/process_util.cc:146] Creating new thread pool with default inter op setting: 2. Tune using inter_op_parallelism_threads for best performance.\n",
      "2023-09-28 11:41:56.861642: I tensorflow/compiler/mlir/mlir_graph_optimization_pass.cc:185] None of the MLIR Optimization Passes are enabled (registered 2)\n"
     ]
    },
    {
     "name": "stdout",
     "output_type": "stream",
     "text": [
      "R2 : 0.9665659326293337\n",
      "Q2 : 0.8956346154787257\n"
     ]
    }
   ],
   "source": [
    "AMNWt_model = model.build_model()\n",
    "history = AMNWt_model.fit(model.X_train, model.Y_train, epochs=epoch, batch_size=batch_size, verbose=0)\n",
    "\n",
    "print(\"R2 :\", model.R2(model.Y_train, AMNWt_model.predict(model.X_train)))\n",
    "print(\"Q2 :\", model.R2(model.Y_test, AMNWt_model.predict(model.X_test)))"
   ]
  },
  {
   "attachments": {},
   "cell_type": "markdown",
   "metadata": {},
   "source": [
    "## Search for hyperparameters"
   ]
  },
  {
   "cell_type": "code",
   "execution_count": 5,
   "metadata": {},
   "outputs": [
    {
     "name": "stderr",
     "output_type": "stream",
     "text": [
      "/home/agiralt/anaconda3/envs/AMN/lib/python3.9/site-packages/sklearn/model_selection/_search.py:285: UserWarning: The total space of parameters 4 is smaller than n_iter=10. Running 4 iterations. For exhaustive searches, use GridSearchCV.\n",
      "  warnings.warn(\n"
     ]
    },
    {
     "name": "stdout",
     "output_type": "stream",
     "text": [
      "WARNING:tensorflow:5 out of the last 5 calls to <function Model.make_test_function.<locals>.test_function at 0x7f9359f42700> triggered tf.function retracing. Tracing is expensive and the excessive number of tracings could be due to (1) creating @tf.function repeatedly in a loop, (2) passing tensors with different shapes, (3) passing Python objects instead of tensors. For (1), please define your @tf.function outside of the loop. For (2), @tf.function has experimental_relax_shapes=True option that relaxes argument shapes that can avoid unnecessary retracing. For (3), please refer to https://www.tensorflow.org/guide/function#controlling_retracing and https://www.tensorflow.org/api_docs/python/tf/function for  more details.\n",
      "WARNING:tensorflow:6 out of the last 6 calls to <function Model.make_test_function.<locals>.test_function at 0x7f9359de8af0> triggered tf.function retracing. Tracing is expensive and the excessive number of tracings could be due to (1) creating @tf.function repeatedly in a loop, (2) passing tensors with different shapes, (3) passing Python objects instead of tensors. For (1), please define your @tf.function outside of the loop. For (2), @tf.function has experimental_relax_shapes=True option that relaxes argument shapes that can avoid unnecessary retracing. For (3), please refer to https://www.tensorflow.org/guide/function#controlling_retracing and https://www.tensorflow.org/api_docs/python/tf/function for  more details.\n"
     ]
    }
   ],
   "source": [
    "from sklearn.model_selection import RandomizedSearchCV\n",
    "\n",
    "estimator= KerasRegressor(build_fn=model.build_model, \n",
    "                          epochs=epoch, \n",
    "                          batch_size=batch_size, \n",
    "                          verbose=0)\n",
    "\n",
    "distributions = dict(batch_size=[7,20],\n",
    "                     nb_epoch=[2,100],\n",
    "                    #  hidden_dim=[1,2],\n",
    "                     )\n",
    "\n",
    "scoring = {\"loss_constraint\":make_scorer(model.loss_constraint),\n",
    "           \"mse\":make_scorer(model.mse),\n",
    "           \"R2\":make_scorer(model.R2),\n",
    "           }\n",
    "\n",
    "clf = RandomizedSearchCV(estimator, distributions, random_state=0)\n",
    "search = clf.fit(model.X_test, model.Y_test)"
   ]
  },
  {
   "attachments": {},
   "cell_type": "markdown",
   "metadata": {},
   "source": [
    "## Save and load the model"
   ]
  },
  {
   "cell_type": "code",
   "execution_count": 1,
   "metadata": {},
   "outputs": [
    {
     "name": "stdout",
     "output_type": "stream",
     "text": [
      "---------------------------------------- model ----------------------------------------\n",
      "number of metabolites:  72\n",
      "filtered measurements size:  1\n",
      "dataset file: ./Dataset/e_coli_core_UB_100.npz\n",
      "model type: AMNWt\n",
      "model medium bound: UB\n",
      "timestep: 4\n",
      "training set size (100, 20) (100, 1)\n",
      "training epochs: 50\n",
      "training regression: True\n",
      "training batch size: 7\n",
      "training validation iter: 0\n",
      "training early stopping: False\n"
     ]
    },
    {
     "name": "stderr",
     "output_type": "stream",
     "text": [
      "2023-09-28 13:46:23.386122: I tensorflow/core/platform/cpu_feature_guard.cc:142] This TensorFlow binary is optimized with oneAPI Deep Neural Network Library (oneDNN) to use the following CPU instructions in performance-critical operations:  SSE4.1 SSE4.2 AVX AVX2 FMA\n",
      "To enable them in other operations, rebuild TensorFlow with the appropriate compiler flags.\n",
      "2023-09-28 13:46:23.387585: I tensorflow/core/common_runtime/process_util.cc:146] Creating new thread pool with default inter op setting: 2. Tune using inter_op_parallelism_threads for best performance.\n",
      "2023-09-28 13:46:23.539299: I tensorflow/compiler/mlir/mlir_graph_optimization_pass.cc:185] None of the MLIR Optimization Passes are enabled (registered 2)\n"
     ]
    },
    {
     "name": "stdout",
     "output_type": "stream",
     "text": [
      "R2 : 0.947688494269081\n",
      "Q2 : 0.862418522911932\n"
     ]
    }
   ],
   "source": [
    "import tensorflow as tf\n",
    "\n",
    "# from aMNWtModel import AMNWtModel, RNNCell\n",
    "# model_class = AMNWtModel\n",
    "# model_file = \"Models/AMNWt_model.keras\"\n",
    "\n",
    "\n",
    "\n",
    "from aMRNNModel import AMRNNModel, RNNCell\n",
    "model_class = AMRNNModel\n",
    "model_file = \"Models/AMRNN_model.keras\"\n",
    "\n",
    "\n",
    "seed = 10\n",
    "tf.random.set_seed(seed)\n",
    "dataset_file = \"./Dataset/e_coli_core_UB_100.npz\"\n",
    "objective=['BIOMASS_Ecoli_core_w_GAM']\n",
    "\n",
    "# Dataset plus model structure\n",
    "print(\"---------------------------------------- model ----------------------------------------\")\n",
    "model = model_class(dataset_file=dataset_file, \n",
    "                   objective=objective,\n",
    "                   timestep=4,\n",
    "                   hidden_dim=50,\n",
    "                   epochs=50, \n",
    "                   verbose=True,\n",
    "                   batch_size=7)\n",
    "model.printout()\n",
    "\n",
    "# Preprocessing\n",
    "from sklearn.preprocessing import MinMaxScaler,StandardScaler,MaxAbsScaler \n",
    "from tools import MaxScaler\n",
    "scaler= MaxScaler()\n",
    "model.train_test_split(test_size=0.1, random_state=seed)\n",
    "model.preprocess(scaler)\n",
    "model.preprocessing_for_specific_model()\n",
    "\n",
    "batch_size = 7\n",
    "\n",
    "# Construct and train an AMNWt model\n",
    "AMNWt_model = model.build_model()\n",
    "history = AMNWt_model.fit(model.X_train, model.Y_train, epochs=200, batch_size=batch_size, verbose=0)\n",
    "\n",
    "print(\"R2 :\", model.R2(model.Y_train, AMNWt_model.predict(model.X_train)))\n",
    "print(\"Q2 :\", model.R2(model.Y_test, AMNWt_model.predict(model.X_test)))"
   ]
  },
  {
   "cell_type": "code",
   "execution_count": 2,
   "metadata": {},
   "outputs": [
    {
     "name": "stdout",
     "output_type": "stream",
     "text": [
      "R2 : 0.947688494269081\n",
      "Q2 : 0.862418522911932\n"
     ]
    }
   ],
   "source": [
    "from tools import custom_loss\n",
    "\n",
    "seed = 10\n",
    "tf.random.set_seed(seed)\n",
    "\n",
    "# Recreate new model from config file, compile and train it. First test on config.\n",
    "config = AMNWt_model.get_config()\n",
    "AMNWt_model_= tf.keras.Model.from_config(config, custom_objects={\"RNNCell\":RNNCell})\n",
    "my_mse = custom_loss(model.S, model.P_out,model.P_in)\n",
    "AMNWt_model_.compile(loss=my_mse,optimizer='adam',metrics=[my_mse])\n",
    "history = AMNWt_model_.fit(model.X_train, model.Y_train, epochs=200, batch_size=batch_size, verbose=0)\n",
    "# \n",
    "print(\"R2 :\", model.R2(model.Y_train, AMNWt_model_.predict(model.X_train)))\n",
    "print(\"Q2 :\", model.R2(model.Y_test, AMNWt_model_.predict(model.X_test)))"
   ]
  },
  {
   "cell_type": "code",
   "execution_count": 3,
   "metadata": {},
   "outputs": [],
   "source": [
    "# Save the train AMNWt_model\n",
    "tf.keras.models.save_model(AMNWt_model,model_file, overwrite=True, save_format=None, save_traces=True)"
   ]
  },
  {
   "cell_type": "code",
   "execution_count": 4,
   "metadata": {},
   "outputs": [
    {
     "name": "stdout",
     "output_type": "stream",
     "text": [
      "R2 : 0.9858660921974866\n",
      "Q2 : 0.9417074097957974\n"
     ]
    }
   ],
   "source": [
    "from tools import custom_loss\n",
    "\n",
    "AMNWt_model_ = tf.keras.models.load_model(model_file, custom_objects={\"RNNCell\":RNNCell,\n",
    "                                                                               \"my_mse\":custom_loss(model.S, model.P_out,model.P_in)})\n",
    "\n",
    "\n",
    "history = AMNWt_model_.fit(model.X_train, model.Y_train, epochs=200, batch_size=batch_size, verbose=0)\n",
    "print(\"R2 :\", model.R2(model.Y_train, AMNWt_model_.predict(model.X_train)))\n",
    "print(\"Q2 :\", model.R2(model.Y_test, AMNWt_model_.predict(model.X_test)))"
   ]
  },
  {
   "cell_type": "code",
   "execution_count": null,
   "metadata": {},
   "outputs": [],
   "source": []
  },
  {
   "cell_type": "code",
   "execution_count": null,
   "metadata": {},
   "outputs": [],
   "source": []
  },
  {
   "cell_type": "code",
   "execution_count": null,
   "metadata": {},
   "outputs": [],
   "source": []
  },
  {
   "cell_type": "code",
   "execution_count": null,
   "metadata": {},
   "outputs": [],
   "source": []
  }
 ],
 "metadata": {
  "kernelspec": {
   "display_name": "AMN",
   "language": "python",
   "name": "python3"
  },
  "language_info": {
   "codemirror_mode": {
    "name": "ipython",
    "version": 3
   },
   "file_extension": ".py",
   "mimetype": "text/x-python",
   "name": "python",
   "nbconvert_exporter": "python",
   "pygments_lexer": "ipython3",
   "version": "3.9.13"
  },
  "orig_nbformat": 4
 },
 "nbformat": 4,
 "nbformat_minor": 2
}
